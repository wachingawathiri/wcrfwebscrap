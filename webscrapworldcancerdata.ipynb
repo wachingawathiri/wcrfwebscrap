{
 "cells": [
  {
   "cell_type": "code",
   "execution_count": 3,
   "id": "27e83112",
   "metadata": {},
   "outputs": [],
   "source": [
    "from bs4 import BeautifulSoup\n",
    "import requests"
   ]
  },
  {
   "cell_type": "code",
   "execution_count": 4,
   "id": "b40dce12",
   "metadata": {},
   "outputs": [],
   "source": [
    "url = 'https://www.wcrf.org/cancer-trends/worldwide-cancer-data'\n",
    "\n",
    "page = requests.get(url)\n",
    "\n",
    "soup = BeautifulSoup(page.text, 'html')"
   ]
  },
  {
   "cell_type": "code",
   "execution_count": 5,
   "id": "2f34ad4e",
   "metadata": {},
   "outputs": [
    {
     "name": "stdout",
     "output_type": "stream",
     "text": [
      "<!DOCTYPE html>\n",
      "<html class=\"no-js\" lang=\"en-US\"><head> <script>(function(w,d,s,l,i){w[l]=w[l]||[];w[l].push({'gtm.start':\n",
      "\tnew Date().getTime(),event:'gtm.js'});var f=d.getElementsByTagName(s)[0],\n",
      "\tj=d.createElement(s),dl=l!='dataLayer'?'&l='+l:'';j.async=true;j.src=\n",
      "\t'https://www.googletagmanager.com/gtm.js?id='+i+dl;f.parentNode.insertBefore(j,f);\n",
      "\t})(window,document,'script','dataLayer','GTM-TGTR7D');</script> <meta charset=\"utf-8\"/><meta content=\"IE=edge,chrome=1\" http-equiv=\"X-UA-Compatible\"/> <script src=\"https://documentservices.adobe.com/view-sdk/viewer.js\"></script> <meta charset=\"utf-8\"/><meta content=\"width=device-width, initial-scale=1.0\" name=\"viewport\"/><meta content=\"aTIVB0K1NWTwQwER5uP74vGON2r66OKOEIg1K_Uldz4\" name=\"google-site-verification\"/><link href=\"https://gmpg.org/xfn/11\" rel=\"profile\"/><meta content=\"index, follow, max-image-preview:large, max-snippet:-1, max-video-preview:-1\" name=\"robots\"/><link href=\"https://www.wcrf.org/wp-content/cache/autoptimize/css/autoptimize_edad93865ed5a3464ab51793001b03c3.css\" media=\"all\" rel=\"stylesheet\"/><link href=\"https://www.wcrf.org/wp-content/cache/autoptimize/css/autoptimize_f8b91b0e60520b6787c8a6b117d6f2d2.css\" media=\"print\" rel=\"stylesheet\"/><title>Worldwide cancer data | World Cancer Research Fund International</title><meta content=\"Which is the most common type of cancer in the world? Find out on our global cancer statistics page, with separate information on men &amp; women\" name=\"description\"/><link href=\"https://www.wcrf.org/cancer-trends/worldwide-cancer-data/\" rel=\"canonical\"/><meta content=\"en_US\" property=\"og:locale\"/><meta content=\"article\" property=\"og:type\"/><meta content=\"Worldwide cancer data | World Cancer Research Fund International\" property=\"og:title\"/><meta content=\"Which is the most common type of cancer in the world? Find out on our global cancer statistics page, with separate information on men &amp; women\" property=\"og:description\"/><meta content=\"https://www.wcrf.org/cancer-trends/worldwide-cancer-data/\" property=\"og:url\"/><meta content=\"WCRF International\" property=\"og:site_name\"/><meta content=\"2024-06-26T07:44:04+00:00\" property=\"article:modified_time\"/><meta content=\"https://www.wcrf.org/wp-content/uploads/2021/05/Cancer-Trends-Country-data.png\" property=\"og:image\"/><meta content=\"712\" property=\"og:image:width\"/><meta content=\"303\" property=\"og:image:height\"/><meta content=\"image/png\" property=\"og:image:type\"/><meta content=\"summary_large_image\" name=\"twitter:card\"/><meta content=\"https://www.wcrf.org/wp-content/uploads/2021/05/Cancer-Trends-Country-data.png\" name=\"twitter:image\"/><meta content=\"Written by\" name=\"twitter:label1\"/><meta content=\"Penny Woods\" name=\"twitter:data1\"/> <script class=\"yoast-schema-graph\" type=\"application/ld+json\">{\"@context\":\"https://schema.org\",\"@graph\":[{\"@type\":\"WebPage\",\"@id\":\"https://www.wcrf.org/cancer-trends/worldwide-cancer-data/\",\"url\":\"https://www.wcrf.org/cancer-trends/worldwide-cancer-data/\",\"name\":\"Worldwide cancer data | World Cancer Research Fund International\",\"isPartOf\":{\"@id\":\"https://www.wcrf.org/#website\"},\"primaryImageOfPage\":{\"@id\":\"https://www.wcrf.org/cancer-trends/worldwide-cancer-data/#primaryimage\"},\"image\":{\"@id\":\"https://www.wcrf.org/cancer-trends/worldwide-cancer-data/#primaryimage\"},\"thumbnailUrl\":\"https://www.wcrf.org/wp-content/uploads/2021/05/Cancer-Trends-Country-data.png\",\"datePublished\":\"2022-03-09T16:46:54+00:00\",\"dateModified\":\"2024-06-26T07:44:04+00:00\",\"description\":\"Which is the most common type of cancer in the world? Find out on our global cancer statistics page, with separate information on men & women\",\"breadcrumb\":{\"@id\":\"https://www.wcrf.org/cancer-trends/worldwide-cancer-data/#breadcrumb\"},\"inLanguage\":\"en-US\",\"potentialAction\":[{\"@type\":\"ReadAction\",\"target\":[\"https://www.wcrf.org/cancer-trends/worldwide-cancer-data/\"]}]},{\"@type\":\"ImageObject\",\"inLanguage\":\"en-US\",\"@id\":\"https://www.wcrf.org/cancer-trends/worldwide-cancer-data/#primaryimage\",\"url\":\"https://www.wcrf.org/wp-content/uploads/2021/05/Cancer-Trends-Country-data.png\",\"contentUrl\":\"https://www.wcrf.org/wp-content/uploads/2021/05/Cancer-Trends-Country-data.png\",\"width\":712,\"height\":303,\"caption\":\"Graphic of worldwide data by cancer type\"},{\"@type\":\"BreadcrumbList\",\"@id\":\"https://www.wcrf.org/cancer-trends/worldwide-cancer-data/#breadcrumb\",\"itemListElement\":[{\"@type\":\"ListItem\",\"position\":1,\"name\":\"Home\",\"item\":\"https://www.wcrf.org/\"},{\"@type\":\"ListItem\",\"position\":2,\"name\":\"Cancer trends\",\"item\":\"https://www.wcrf.org/cancer-trends/\"},{\"@type\":\"ListItem\",\"position\":3,\"name\":\"Worldwide cancer data\"}]},{\"@type\":\"WebSite\",\"@id\":\"https://www.wcrf.org/#website\",\"url\":\"https://www.wcrf.org/\",\"name\":\"WCRF International\",\"description\":\"\",\"publisher\":{\"@id\":\"https://www.wcrf.org/#organization\"},\"potentialAction\":[{\"@type\":\"SearchAction\",\"target\":{\"@type\":\"EntryPoint\",\"urlTemplate\":\"https://www.wcrf.org/?s={search_term_string}\"},\"query-input\":{\"@type\":\"PropertyValueSpecification\",\"valueRequired\":true,\"valueName\":\"search_term_string\"}}],\"inLanguage\":\"en-US\"},{\"@type\":\"Organization\",\"@id\":\"https://www.wcrf.org/#organization\",\"name\":\"WCRF International\",\"url\":\"https://www.wcrf.org/\",\"logo\":{\"@type\":\"ImageObject\",\"inLanguage\":\"en-US\",\"@id\":\"https://www.wcrf.org/#/schema/logo/image/\",\"url\":\"https://www.wcrf.org/wp-content/uploads/2021/05/WCRFI-Logo-Artwork_negative_web_resized.png\",\"contentUrl\":\"https://www.wcrf.org/wp-content/uploads/2021/05/WCRFI-Logo-Artwork_negative_web_resized.png\",\"width\":207,\"height\":64,\"caption\":\"WCRF International\"},\"image\":{\"@id\":\"https://www.wcrf.org/#/schema/logo/image/\"}}]}</script> <link href=\"//a.omappapi.com\" rel=\"dns-prefetch\"/><link href=\"https://www.wcrf.org/feed/\" rel=\"alternate\" title=\"WCRF International » Feed\" type=\"application/rss+xml\"/><link href=\"https://www.wcrf.org/comments/feed/\" rel=\"alternate\" title=\"WCRF International » Comments Feed\" type=\"application/rss+xml\"/><style id=\"co-authors-plus-coauthors-style-inline-css\">.wp-block-co-authors-plus-coauthors.is-layout-flow [class*=wp-block-co-authors-plus]{display:inline}</style><style id=\"co-authors-plus-avatar-style-inline-css\">.wp-block-co-authors-plus-avatar :where(img){height:auto;max-width:100%;vertical-align:bottom}.wp-block-co-authors-plus-coauthors.is-layout-flow .wp-block-co-authors-plus-avatar :where(img){vertical-align:middle}.wp-block-co-authors-plus-avatar:is(.alignleft,.alignright){display:table}.wp-block-co-authors-plus-avatar.aligncenter{display:table;margin-inline:auto}</style><style id=\"co-authors-plus-image-style-inline-css\">.wp-block-co-authors-plus-image{margin-bottom:0}.wp-block-co-authors-plus-image :where(img){height:auto;max-width:100%;vertical-align:bottom}.wp-block-co-authors-plus-coauthors.is-layout-flow .wp-block-co-authors-plus-image :where(img){vertical-align:middle}.wp-block-co-authors-plus-image:is(.alignfull,.alignwide) :where(img){width:100%}.wp-block-co-authors-plus-image:is(.alignleft,.alignright){display:table}.wp-block-co-authors-plus-image.aligncenter{display:table;margin-inline:auto}</style><style id=\"classic-theme-styles-inline-css\">/*! This file is auto-generated */\n",
      ".wp-block-button__link{color:#fff;background-color:#32373c;border-radius:9999px;box-shadow:none;text-decoration:none;padding:calc(.667em + 2px) calc(1.333em + 2px);font-size:1.125em}.wp-block-file__button{background:#32373c;color:#fff;text-decoration:none}</style><style id=\"global-styles-inline-css\">:root{--wp--preset--aspect-ratio--square: 1;--wp--preset--aspect-ratio--4-3: 4/3;--wp--preset--aspect-ratio--3-4: 3/4;--wp--preset--aspect-ratio--3-2: 3/2;--wp--preset--aspect-ratio--2-3: 2/3;--wp--preset--aspect-ratio--16-9: 16/9;--wp--preset--aspect-ratio--9-16: 9/16;--wp--preset--color--black: #000000;--wp--preset--color--cyan-bluish-gray: #abb8c3;--wp--preset--color--white: #ffffff;--wp--preset--color--pale-pink: #f78da7;--wp--preset--color--vivid-red: #cf2e2e;--wp--preset--color--luminous-vivid-orange: #ff6900;--wp--preset--color--luminous-vivid-amber: #fcb900;--wp--preset--color--light-green-cyan: #7bdcb5;--wp--preset--color--vivid-green-cyan: #00d084;--wp--preset--color--pale-cyan-blue: #8ed1fc;--wp--preset--color--vivid-cyan-blue: #0693e3;--wp--preset--color--vivid-purple: #9b51e0;--wp--preset--color--accent: #cd2653;--wp--preset--color--primary: #000000;--wp--preset--color--secondary: #6d6d6d;--wp--preset--color--subtle-background: #dcd7ca;--wp--preset--color--background: #f5efe0;--wp--preset--gradient--vivid-cyan-blue-to-vivid-purple: linear-gradient(135deg,rgba(6,147,227,1) 0%,rgb(155,81,224) 100%);--wp--preset--gradient--light-green-cyan-to-vivid-green-cyan: linear-gradient(135deg,rgb(122,220,180) 0%,rgb(0,208,130) 100%);--wp--preset--gradient--luminous-vivid-amber-to-luminous-vivid-orange: linear-gradient(135deg,rgba(252,185,0,1) 0%,rgba(255,105,0,1) 100%);--wp--preset--gradient--luminous-vivid-orange-to-vivid-red: linear-gradient(135deg,rgba(255,105,0,1) 0%,rgb(207,46,46) 100%);--wp--preset--gradient--very-light-gray-to-cyan-bluish-gray: linear-gradient(135deg,rgb(238,238,238) 0%,rgb(169,184,195) 100%);--wp--preset--gradient--cool-to-warm-spectrum: linear-gradient(135deg,rgb(74,234,220) 0%,rgb(151,120,209) 20%,rgb(207,42,186) 40%,rgb(238,44,130) 60%,rgb(251,105,98) 80%,rgb(254,248,76) 100%);--wp--preset--gradient--blush-light-purple: linear-gradient(135deg,rgb(255,206,236) 0%,rgb(152,150,240) 100%);--wp--preset--gradient--blush-bordeaux: linear-gradient(135deg,rgb(254,205,165) 0%,rgb(254,45,45) 50%,rgb(107,0,62) 100%);--wp--preset--gradient--luminous-dusk: linear-gradient(135deg,rgb(255,203,112) 0%,rgb(199,81,192) 50%,rgb(65,88,208) 100%);--wp--preset--gradient--pale-ocean: linear-gradient(135deg,rgb(255,245,203) 0%,rgb(182,227,212) 50%,rgb(51,167,181) 100%);--wp--preset--gradient--electric-grass: linear-gradient(135deg,rgb(202,248,128) 0%,rgb(113,206,126) 100%);--wp--preset--gradient--midnight: linear-gradient(135deg,rgb(2,3,129) 0%,rgb(40,116,252) 100%);--wp--preset--font-size--small: 18px;--wp--preset--font-size--medium: 20px;--wp--preset--font-size--large: 26.25px;--wp--preset--font-size--x-large: 42px;--wp--preset--font-size--normal: 21px;--wp--preset--font-size--larger: 32px;--wp--preset--spacing--20: 0.44rem;--wp--preset--spacing--30: 0.67rem;--wp--preset--spacing--40: 1rem;--wp--preset--spacing--50: 1.5rem;--wp--preset--spacing--60: 2.25rem;--wp--preset--spacing--70: 3.38rem;--wp--preset--spacing--80: 5.06rem;--wp--preset--shadow--natural: 6px 6px 9px rgba(0, 0, 0, 0.2);--wp--preset--shadow--deep: 12px 12px 50px rgba(0, 0, 0, 0.4);--wp--preset--shadow--sharp: 6px 6px 0px rgba(0, 0, 0, 0.2);--wp--preset--shadow--outlined: 6px 6px 0px -3px rgba(255, 255, 255, 1), 6px 6px rgba(0, 0, 0, 1);--wp--preset--shadow--crisp: 6px 6px 0px rgba(0, 0, 0, 1);}:where(.is-layout-flex){gap: 0.5em;}:where(.is-layout-grid){gap: 0.5em;}body .is-layout-flex{display: flex;}.is-layout-flex{flex-wrap: wrap;align-items: center;}.is-layout-flex > :is(*, div){margin: 0;}body .is-layout-grid{display: grid;}.is-layout-grid > :is(*, div){margin: 0;}:where(.wp-block-columns.is-layout-flex){gap: 2em;}:where(.wp-block-columns.is-layout-grid){gap: 2em;}:where(.wp-block-post-template.is-layout-flex){gap: 1.25em;}:where(.wp-block-post-template.is-layout-grid){gap: 1.25em;}.has-black-color{color: var(--wp--preset--color--black) !important;}.has-cyan-bluish-gray-color{color: var(--wp--preset--color--cyan-bluish-gray) !important;}.has-white-color{color: var(--wp--preset--color--white) !important;}.has-pale-pink-color{color: var(--wp--preset--color--pale-pink) !important;}.has-vivid-red-color{color: var(--wp--preset--color--vivid-red) !important;}.has-luminous-vivid-orange-color{color: var(--wp--preset--color--luminous-vivid-orange) !important;}.has-luminous-vivid-amber-color{color: var(--wp--preset--color--luminous-vivid-amber) !important;}.has-light-green-cyan-color{color: var(--wp--preset--color--light-green-cyan) !important;}.has-vivid-green-cyan-color{color: var(--wp--preset--color--vivid-green-cyan) !important;}.has-pale-cyan-blue-color{color: var(--wp--preset--color--pale-cyan-blue) !important;}.has-vivid-cyan-blue-color{color: var(--wp--preset--color--vivid-cyan-blue) !important;}.has-vivid-purple-color{color: var(--wp--preset--color--vivid-purple) !important;}.has-black-background-color{background-color: var(--wp--preset--color--black) !important;}.has-cyan-bluish-gray-background-color{background-color: var(--wp--preset--color--cyan-bluish-gray) !important;}.has-white-background-color{background-color: var(--wp--preset--color--white) !important;}.has-pale-pink-background-color{background-color: var(--wp--preset--color--pale-pink) !important;}.has-vivid-red-background-color{background-color: var(--wp--preset--color--vivid-red) !important;}.has-luminous-vivid-orange-background-color{background-color: var(--wp--preset--color--luminous-vivid-orange) !important;}.has-luminous-vivid-amber-background-color{background-color: var(--wp--preset--color--luminous-vivid-amber) !important;}.has-light-green-cyan-background-color{background-color: var(--wp--preset--color--light-green-cyan) !important;}.has-vivid-green-cyan-background-color{background-color: var(--wp--preset--color--vivid-green-cyan) !important;}.has-pale-cyan-blue-background-color{background-color: var(--wp--preset--color--pale-cyan-blue) !important;}.has-vivid-cyan-blue-background-color{background-color: var(--wp--preset--color--vivid-cyan-blue) !important;}.has-vivid-purple-background-color{background-color: var(--wp--preset--color--vivid-purple) !important;}.has-black-border-color{border-color: var(--wp--preset--color--black) !important;}.has-cyan-bluish-gray-border-color{border-color: var(--wp--preset--color--cyan-bluish-gray) !important;}.has-white-border-color{border-color: var(--wp--preset--color--white) !important;}.has-pale-pink-border-color{border-color: var(--wp--preset--color--pale-pink) !important;}.has-vivid-red-border-color{border-color: var(--wp--preset--color--vivid-red) !important;}.has-luminous-vivid-orange-border-color{border-color: var(--wp--preset--color--luminous-vivid-orange) !important;}.has-luminous-vivid-amber-border-color{border-color: var(--wp--preset--color--luminous-vivid-amber) !important;}.has-light-green-cyan-border-color{border-color: var(--wp--preset--color--light-green-cyan) !important;}.has-vivid-green-cyan-border-color{border-color: var(--wp--preset--color--vivid-green-cyan) !important;}.has-pale-cyan-blue-border-color{border-color: var(--wp--preset--color--pale-cyan-blue) !important;}.has-vivid-cyan-blue-border-color{border-color: var(--wp--preset--color--vivid-cyan-blue) !important;}.has-vivid-purple-border-color{border-color: var(--wp--preset--color--vivid-purple) !important;}.has-vivid-cyan-blue-to-vivid-purple-gradient-background{background: var(--wp--preset--gradient--vivid-cyan-blue-to-vivid-purple) !important;}.has-light-green-cyan-to-vivid-green-cyan-gradient-background{background: var(--wp--preset--gradient--light-green-cyan-to-vivid-green-cyan) !important;}.has-luminous-vivid-amber-to-luminous-vivid-orange-gradient-background{background: var(--wp--preset--gradient--luminous-vivid-amber-to-luminous-vivid-orange) !important;}.has-luminous-vivid-orange-to-vivid-red-gradient-background{background: var(--wp--preset--gradient--luminous-vivid-orange-to-vivid-red) !important;}.has-very-light-gray-to-cyan-bluish-gray-gradient-background{background: var(--wp--preset--gradient--very-light-gray-to-cyan-bluish-gray) !important;}.has-cool-to-warm-spectrum-gradient-background{background: var(--wp--preset--gradient--cool-to-warm-spectrum) !important;}.has-blush-light-purple-gradient-background{background: var(--wp--preset--gradient--blush-light-purple) !important;}.has-blush-bordeaux-gradient-background{background: var(--wp--preset--gradient--blush-bordeaux) !important;}.has-luminous-dusk-gradient-background{background: var(--wp--preset--gradient--luminous-dusk) !important;}.has-pale-ocean-gradient-background{background: var(--wp--preset--gradient--pale-ocean) !important;}.has-electric-grass-gradient-background{background: var(--wp--preset--gradient--electric-grass) !important;}.has-midnight-gradient-background{background: var(--wp--preset--gradient--midnight) !important;}.has-small-font-size{font-size: var(--wp--preset--font-size--small) !important;}.has-medium-font-size{font-size: var(--wp--preset--font-size--medium) !important;}.has-large-font-size{font-size: var(--wp--preset--font-size--large) !important;}.has-x-large-font-size{font-size: var(--wp--preset--font-size--x-large) !important;}\n",
      ":where(.wp-block-post-template.is-layout-flex){gap: 1.25em;}:where(.wp-block-post-template.is-layout-grid){gap: 1.25em;}\n",
      ":where(.wp-block-columns.is-layout-flex){gap: 2em;}:where(.wp-block-columns.is-layout-grid){gap: 2em;}\n",
      ":root :where(.wp-block-pullquote){font-size: 1.5em;line-height: 1.6;}</style><style id=\"twentytwenty-style-inline-css\">.color-accent,.color-accent-hover:hover,.color-accent-hover:focus,:root .has-accent-color,.has-drop-cap:not(:focus):first-letter,.wp-block-button.is-style-outline,a { color: #cd2653; }blockquote,.border-color-accent,.border-color-accent-hover:hover,.border-color-accent-hover:focus { border-color: #cd2653; }button,.button,.faux-button,.wp-block-button__link,.wp-block-file .wp-block-file__button,input[type=\"button\"],input[type=\"reset\"],input[type=\"submit\"],.bg-accent,.bg-accent-hover:hover,.bg-accent-hover:focus,:root .has-accent-background-color,.comment-reply-link { background-color: #cd2653; }.fill-children-accent,.fill-children-accent * { fill: #cd2653; }body,.entry-title a,:root .has-primary-color { color: #000000; }:root .has-primary-background-color { background-color: #000000; }cite,figcaption,.wp-caption-text,.post-meta,.entry-content .wp-block-archives li,.entry-content .wp-block-categories li,.entry-content .wp-block-latest-posts li,.wp-block-latest-comments__comment-date,.wp-block-latest-posts__post-date,.wp-block-embed figcaption,.wp-block-image figcaption,.wp-block-pullquote cite,.comment-metadata,.comment-respond .comment-notes,.comment-respond .logged-in-as,.pagination .dots,.entry-content hr:not(.has-background),hr.styled-separator,:root .has-secondary-color { color: #6d6d6d; }:root .has-secondary-background-color { background-color: #6d6d6d; }pre,fieldset,input,textarea,table,table *,hr { border-color: #dcd7ca; }caption,code,code,kbd,samp,.wp-block-table.is-style-stripes tbody tr:nth-child(odd),:root .has-subtle-background-background-color { background-color: #dcd7ca; }.wp-block-table.is-style-stripes { border-bottom-color: #dcd7ca; }.wp-block-latest-posts.is-grid li { border-top-color: #dcd7ca; }:root .has-subtle-background-color { color: #dcd7ca; }body:not(.overlay-header) .primary-menu > li > a,body:not(.overlay-header) .primary-menu > li > .icon,.modal-menu a,.footer-menu a, .footer-widgets a:where(:not(.wp-block-button__link)),#site-footer .wp-block-button.is-style-outline,.wp-block-pullquote:before,.singular:not(.overlay-header) .entry-header a,.archive-header a,.header-footer-group .color-accent,.header-footer-group .color-accent-hover:hover { color: #cd2653; }.social-icons a,#site-footer button:not(.toggle),#site-footer .button,#site-footer .faux-button,#site-footer .wp-block-button__link,#site-footer .wp-block-file__button,#site-footer input[type=\"button\"],#site-footer input[type=\"reset\"],#site-footer input[type=\"submit\"] { background-color: #cd2653; }.header-footer-group,body:not(.overlay-header) #site-header .toggle,.menu-modal .toggle { color: #000000; }body:not(.overlay-header) .primary-menu ul { background-color: #000000; }body:not(.overlay-header) .primary-menu > li > ul:after { border-bottom-color: #000000; }body:not(.overlay-header) .primary-menu ul ul:after { border-left-color: #000000; }.site-description,body:not(.overlay-header) .toggle-inner .toggle-text,.widget .post-date,.widget .rss-date,.widget_archive li,.widget_categories li,.widget cite,.widget_pages li,.widget_meta li,.widget_nav_menu li,.powered-by-wordpress,.footer-credits .privacy-policy,.to-the-top,.singular .entry-header .post-meta,.singular:not(.overlay-header) .entry-header .post-meta a { color: #6d6d6d; }.header-footer-group pre,.header-footer-group fieldset,.header-footer-group input,.header-footer-group textarea,.header-footer-group table,.header-footer-group table *,.footer-nav-widgets-wrapper,#site-footer,.menu-modal nav *,.footer-widgets-outer-wrapper,.footer-top { border-color: #dcd7ca; }.header-footer-group table caption,body:not(.overlay-header) .header-inner .toggle-wrapper::before { background-color: #dcd7ca; }</style><style id=\"heateor_sss_frontend_css-inline-css\">.heateor_sss_button_instagram span.heateor_sss_svg,a.heateor_sss_instagram span.heateor_sss_svg{background:radial-gradient(circle at 30% 107%,#fdf497 0,#fdf497 5%,#fd5949 45%,#d6249f 60%,#285aeb 90%)}.heateor_sss_horizontal_sharing .heateor_sss_svg,.heateor_sss_standard_follow_icons_container .heateor_sss_svg{color:#fff;border-width:0px;border-style:solid;border-color:transparent}.heateor_sss_horizontal_sharing .heateorSssTCBackground{color:#666}.heateor_sss_horizontal_sharing span.heateor_sss_svg:hover,.heateor_sss_standard_follow_icons_container span.heateor_sss_svg:hover{border-color:transparent;}.heateor_sss_vertical_sharing span.heateor_sss_svg,.heateor_sss_floating_follow_icons_container span.heateor_sss_svg{color:#fff;border-width:0px;border-style:solid;border-color:transparent;}.heateor_sss_vertical_sharing .heateorSssTCBackground{color:#666;}.heateor_sss_vertical_sharing span.heateor_sss_svg:hover,.heateor_sss_floating_follow_icons_container span.heateor_sss_svg:hover{border-color:transparent;}@media screen and (max-width:783px) {.heateor_sss_vertical_sharing{display:none!important}}</style> <script id=\"jquery-core-js\" src=\"https://www.wcrf.org/wp-includes/js/jquery/jquery.min.js\"></script> <script id=\"search-filter-plugin-build-js-extra\">var SF_LDATA = {\"ajax_url\":\"https:\\/\\/www.wcrf.org\\/wp-admin\\/admin-ajax.php\",\"home_url\":\"https:\\/\\/www.wcrf.org\\/\",\"extensions\":[]};</script> <link href=\"https://www.wcrf.org/wp-json/\" rel=\"https://api.w.org/\"/><link href=\"https://www.wcrf.org/wp-json/wp/v2/pages/7760\" rel=\"alternate\" title=\"JSON\" type=\"application/json\"/><link href=\"https://www.wcrf.org/xmlrpc.php?rsd\" rel=\"EditURI\" title=\"RSD\" type=\"application/rsd+xml\"/><meta content=\"WordPress 6.6.1\" name=\"generator\"/><link href=\"https://www.wcrf.org/?p=7760\" rel=\"shortlink\"/><link href=\"https://www.wcrf.org/wp-json/oembed/1.0/embed?url=https%3A%2F%2Fwww.wcrf.org%2Fcancer-trends%2Fworldwide-cancer-data%2F\" rel=\"alternate\" title=\"oEmbed (JSON)\" type=\"application/json+oembed\"/><link href=\"https://www.wcrf.org/wp-json/oembed/1.0/embed?url=https%3A%2F%2Fwww.wcrf.org%2Fcancer-trends%2Fworldwide-cancer-data%2F&amp;format=xml\" rel=\"alternate\" title=\"oEmbed (XML)\" type=\"text/xml+oembed\"/> <script>document.documentElement.className = document.documentElement.className.replace( 'no-js', 'js' );</script> <link href=\"https://www.wcrf.org/wp-content/uploads/2020/12/WCRFI-Logo-Artwork_positive_web.png\" rel=\"icon\" sizes=\"32x32\"/><link href=\"https://www.wcrf.org/wp-content/uploads/2020/12/WCRFI-Logo-Artwork_positive_web.png\" rel=\"icon\" sizes=\"192x192\"/><link href=\"https://www.wcrf.org/wp-content/uploads/2020/12/WCRFI-Logo-Artwork_positive_web.png\" rel=\"apple-touch-icon\"/><meta content=\"https://www.wcrf.org/wp-content/uploads/2020/12/WCRFI-Logo-Artwork_positive_web.png\" name=\"msapplication-TileImage\"/><style id=\"wp-custom-css\">.blog-authors span {\n",
      "  display: none;\n",
      "}\n",
      "\n",
      ".blog-authors a {\n",
      "font-size: 16px;\n",
      "line-height: 19px;\n",
      "color: #722ea5;\n",
      "padding: 0 0 0 0px;\n",
      "white-space: normal;\n",
      "text-transform: capitalize;\n",
      "}\n",
      ".blog-authors a:after {\n",
      "  content: ' ';\n",
      "}\n",
      ".blog-authors {\n",
      "  white-space: break-spaces;\n",
      "}</style><style type=\"text/css\"></style><noscript><style id=\"rocket-lazyload-nojs-css\">.rll-youtube-player, [data-lazy-src]{display:none !important;}</style></noscript></head><body class=\"page-template page-template-content-page page-template-content-page-php page page-id-7760 page-child parent-pageid-7472 wp-custom-logo wp-embed-responsive singular has-post-thumbnail has-no-pagination not-showing-comments show-avatars content-page footer-top-visible\" data-rsssl=\"1\"> <a class=\"skip-link screen-reader-text\" href=\"#site-content\">Skip to the content</a><header class=\"header-footer-group\" id=\"site-header\" role=\"banner\"><div class=\"header-inner section-inner\"><div class=\"header-titles-wrapper\"><div class=\"header-titles\"><div class=\"site-logo faux-heading\"><a class=\"custom-logo-link\" href=\"https://www.wcrf.org/\" rel=\"home\"><noscript><img alt=\"WCRF International\" class=\"custom-logo\" decoding=\"async\" height=\"64\" src=\"https://www.wcrf.org/wp-content/uploads/2021/05/WCRFI-Logo-Artwork_negative_web_resized.png\" width=\"207\"/></noscript><img alt=\"WCRF International\" class=\"lazyload custom-logo\" data-src=\"https://www.wcrf.org/wp-content/uploads/2021/05/WCRFI-Logo-Artwork_negative_web_resized.png\" decoding=\"async\" height=\"64\" src=\"data:image/svg+xml,%3Csvg%20xmlns=%22http://www.w3.org/2000/svg%22%20viewBox=%220%200%20207%2064%22%3E%3C/svg%3E\" width=\"207\"/></a><span class=\"screen-reader-text\">WCRF International</span></div></div></div><div class=\"header-navigation-wrapper\"><nav aria-label=\"Horizontal\" class=\"primary-menu-wrapper\" role=\"navigation\"><ul class=\"primary-menu reset-list-style\"><li class=\"menu-item menu-item-type-post_type menu-item-object-page menu-item-has-children menu-item-7991\" id=\"menu-item-7991\"><a href=\"https://www.wcrf.org/diet-activity-and-cancer/\">Diet, activity and cancer</a><span class=\"icon\"></span><ul class=\"sub-menu\"><li class=\"menu-item menu-item-type-post_type menu-item-object-page menu-item-7999\" id=\"menu-item-7999\"><a href=\"https://www.wcrf.org/diet-activity-and-cancer/global-cancer-update-programme/\">Global Cancer Update Programme</a></li><li class=\"menu-item menu-item-type-post_type menu-item-object-page menu-item-7995\" id=\"menu-item-7995\"><a href=\"https://www.wcrf.org/diet-activity-and-cancer/cancer-types/\">Cancer types</a></li><li class=\"menu-item menu-item-type-post_type menu-item-object-page current-page-ancestor current-page-parent menu-item-7992\" id=\"menu-item-7992\"><a href=\"https://www.wcrf.org/cancer-trends/\">Cancer trends</a></li><li class=\"menu-item menu-item-type-post_type menu-item-object-page menu-item-7994\" id=\"menu-item-7994\"><a href=\"https://www.wcrf.org/diet-activity-and-cancer/risk-factors/\">Cancer risk factors</a></li><li class=\"menu-item menu-item-type-post_type menu-item-object-page menu-item-8000\" id=\"menu-item-8000\"><a href=\"https://www.wcrf.org/diet-activity-and-cancer/cancer-prevention-recommendations/\">Recommendations</a></li><li class=\"menu-item menu-item-type-post_type menu-item-object-page menu-item-7997\" id=\"menu-item-7997\"><a href=\"https://www.wcrf.org/diet-activity-and-cancer/interactive-cancer-risk-matrix/\">Interactive Cancer Risk Matrix</a></li></ul></li><li class=\"menu-item menu-item-type-post_type menu-item-object-page menu-item-has-children menu-item-2908\" id=\"menu-item-2908\"><a href=\"https://www.wcrf.org/research-we-fund/\">Research we fund</a><span class=\"icon\"></span><ul class=\"sub-menu\"><li class=\"menu-item menu-item-type-post_type menu-item-object-page menu-item-10248\" id=\"menu-item-10248\"><a href=\"https://www.wcrf.org/research-we-fund/grant-programmes/apply-for-a-research-grant/\">Apply for a research grant</a></li><li class=\"menu-item menu-item-type-post_type menu-item-object-page menu-item-2907\" id=\"menu-item-2907\"><a href=\"https://www.wcrf.org/research-we-fund/grant-programmes/\">Grant programmes</a></li><li class=\"menu-item menu-item-type-post_type menu-item-object-page menu-item-2733\" id=\"menu-item-2733\"><a href=\"https://www.wcrf.org/research-we-fund/what-we-are-funding/\">What we are funding</a></li><li class=\"menu-item menu-item-type-post_type menu-item-object-page menu-item-2730\" id=\"menu-item-2730\"><a href=\"https://www.wcrf.org/research-we-fund/research-highlights/\">Research highlights</a></li><li class=\"menu-item menu-item-type-post_type menu-item-object-page menu-item-3717\" id=\"menu-item-3717\"><a href=\"https://www.wcrf.org/research-we-fund/wcrf-academy/\">WCRF Academy</a></li></ul></li><li class=\"menu-item menu-item-type-post_type menu-item-object-page current-page-ancestor current-menu-ancestor current-menu-parent current-page-parent current_page_parent current_page_ancestor menu-item-has-children menu-item-8001\" id=\"menu-item-8001\"><a href=\"https://www.wcrf.org/cancer-trends/\">Cancer trends</a><span class=\"icon\"></span><ul class=\"sub-menu\"><li class=\"menu-item menu-item-type-post_type menu-item-object-page current-menu-item page_item page-item-7760 current_page_item menu-item-8004\" id=\"menu-item-8004\"><a aria-current=\"page\" href=\"https://www.wcrf.org/cancer-trends/worldwide-cancer-data/\">Worldwide cancer data</a></li><li class=\"menu-item menu-item-type-post_type menu-item-object-page menu-item-8002\" id=\"menu-item-8002\"><a href=\"https://www.wcrf.org/cancer-trends/global-cancer-data-by-country/\">Global cancer data by country</a></li><li class=\"menu-item menu-item-type-post_type menu-item-object-page menu-item-8003\" id=\"menu-item-8003\"><a href=\"https://www.wcrf.org/cancer-trends/cancer-rates-human-development-index/\">Cancer rates by Human Development Index</a></li></ul></li><li class=\"menu-item menu-item-type-post_type menu-item-object-page menu-item-has-children menu-item-2686\" id=\"menu-item-2686\"><a href=\"https://www.wcrf.org/policy/\">Policy</a><span class=\"icon\"></span><ul class=\"sub-menu\"><li class=\"menu-item menu-item-type-post_type menu-item-object-page menu-item-2567\" id=\"menu-item-2567\"><a href=\"https://www.wcrf.org/policy/our-policy-work/\">Our policy work</a></li><li class=\"menu-item menu-item-type-post_type menu-item-object-page menu-item-9600\" id=\"menu-item-9600\"><a href=\"https://www.wcrf.org/policy/nutrition-policy/\">Nutrition policy</a></li><li class=\"menu-item menu-item-type-post_type menu-item-object-page menu-item-9601\" id=\"menu-item-9601\"><a href=\"https://www.wcrf.org/policy/physical-activity-policy/\">Physical activity policy</a></li><li class=\"menu-item menu-item-type-post_type menu-item-object-page menu-item-2569\" id=\"menu-item-2569\"><a href=\"https://www.wcrf.org/policy/policy-databases/\">Policy databases</a></li><li class=\"menu-item menu-item-type-post_type menu-item-object-page menu-item-3146\" id=\"menu-item-3146\"><a href=\"https://www.wcrf.org/policy/our-publications/\">Our publications</a></li><li class=\"menu-item menu-item-type-post_type menu-item-object-page menu-item-2568\" id=\"menu-item-2568\"><a href=\"https://www.wcrf.org/policy/policy-newsletter/\">Policy e-newsletter</a></li></ul></li><li class=\"menu-item menu-item-type-post_type menu-item-object-page menu-item-has-children menu-item-2785\" id=\"menu-item-2785\"><a href=\"https://www.wcrf.org/latest/\">Latest</a><span class=\"icon\"></span><ul class=\"sub-menu\"><li class=\"menu-item menu-item-type-post_type menu-item-object-page menu-item-3678\" id=\"menu-item-3678\"><a href=\"https://www.wcrf.org/latest/about-us/\">About us</a></li><li class=\"menu-item menu-item-type-post_type menu-item-object-page menu-item-7767\" id=\"menu-item-7767\"><a href=\"https://www.wcrf.org/latest/about-us/contact-us/\">Contact us</a></li><li class=\"menu-item menu-item-type-post_type menu-item-object-page menu-item-6695\" id=\"menu-item-6695\"><a href=\"https://www.wcrf.org/latest/conferences-events-calendar/\">Conferences and events calendar</a></li><li class=\"menu-item menu-item-type-custom menu-item-object-custom menu-item-8596\" id=\"menu-item-8596\"><a href=\"https://www.wcrf.org/latest/newsletter/\">Sign up to our email newsletter</a></li><li class=\"menu-item menu-item-type-post_type menu-item-object-page menu-item-3052\" id=\"menu-item-3052\"><a href=\"https://www.wcrf.org/our-blog/\">Our blog</a></li><li class=\"menu-item menu-item-type-post_type menu-item-object-page menu-item-3257\" id=\"menu-item-3257\"><a href=\"https://www.wcrf.org/latest/news-and-updates/\">News and updates</a></li><li class=\"menu-item menu-item-type-post_type menu-item-object-page menu-item-2786\" id=\"menu-item-2786\"><a href=\"https://www.wcrf.org/latest/media-centre/\">Media centre</a></li><li class=\"menu-item menu-item-type-post_type menu-item-object-page menu-item-2800\" id=\"menu-item-2800\"><a href=\"https://www.wcrf.org/latest/our-science-and-policy-partnerships/\">Our partnerships</a></li></ul></li></ul></nav></div><div class=\"header-right-section\"> <button aria-expanded=\"false\" class=\"toggle nav-toggle mobile-nav-toggle\" data-set-focus=\".close-nav-toggle\" data-toggle-body-class=\"showing-menu-modal\" data-toggle-target=\".menu-modal\"> <span class=\"toggle-inner\"> <span class=\"toggle-icon\"> <svg aria-hidden=\"true\" class=\"svg-icon\" focusable=\"false\" height=\"7\" role=\"img\" viewbox=\"0 0 26 7\" width=\"26\" xmlns=\"http://www.w3.org/2000/svg\"><path d=\"M332.5,45 C330.567003,45 329,43.4329966 329,41.5 C329,39.5670034 330.567003,38 332.5,38 C334.432997,38 336,39.5670034 336,41.5 C336,43.4329966 334.432997,45 332.5,45 Z M342,45 C340.067003,45 338.5,43.4329966 338.5,41.5 C338.5,39.5670034 340.067003,38 342,38 C343.932997,38 345.5,39.5670034 345.5,41.5 C345.5,43.4329966 343.932997,45 342,45 Z M351.5,45 C349.567003,45 348,43.4329966 348,41.5 C348,39.5670034 349.567003,38 351.5,38 C353.432997,38 355,39.5670034 355,41.5 C355,43.4329966 353.432997,45 351.5,45 Z\" fill-rule=\"evenodd\" transform=\"translate(-329 -38)\"></path></svg> </span> <span class=\"toggle-text\">Menu</span> </span> </button><div class=\"search-section\"><div class=\"search-bar\"></div><div class=\"inner-search\"><form action=\"https://www.wcrf.org/\" class=\"search-form\" method=\"get\" role=\"search\"> <label for=\"search-form-1\"> <span class=\"screen-reader-text\"> Search for: </span> <input class=\"search-field\" id=\"search-form-1\" name=\"s\" placeholder=\"Search …\" type=\"search\" value=\"\"/> </label> <input class=\"search-submit\" type=\"submit\" value=\"Search\"/></form></div></div><div class=\"donate-btn\"> <a href=\"/about-us/donate/\" target=\"_self\"> <button type=\"button\">Donate</button> </a></div></div></div></header><div class=\"menu-modal cover-modal header-footer-group\" data-modal-target-string=\".menu-modal\"><div class=\"menu-modal-inner modal-inner\"><div class=\"menu-wrapper section-inner\"><div class=\"menu-top\"> <button class=\"toggle close-nav-toggle fill-children-current-color\" data-set-focus=\".menu-modal\" data-toggle-body-class=\"showing-menu-modal\" data-toggle-target=\".menu-modal\"> <span class=\"toggle-text\">Close Menu</span> <svg aria-hidden=\"true\" class=\"svg-icon\" focusable=\"false\" height=\"16\" role=\"img\" viewbox=\"0 0 16 16\" width=\"16\" xmlns=\"http://www.w3.org/2000/svg\"><polygon fill=\"\" fill-rule=\"evenodd\" points=\"6.852 7.649 .399 1.195 1.445 .149 7.899 6.602 14.352 .149 15.399 1.195 8.945 7.649 15.399 14.102 14.352 15.149 7.899 8.695 1.445 15.149 .399 14.102\"></polygon></svg> </button><nav aria-label=\"Mobile\" class=\"mobile-menu\"><ul class=\"modal-menu reset-list-style\"><li class=\"menu-item menu-item-type-post_type menu-item-object-page menu-item-has-children menu-item-7991\"><div class=\"ancestor-wrapper\"><a href=\"https://www.wcrf.org/diet-activity-and-cancer/\">Diet, activity and cancer</a><button aria-expanded=\"false\" class=\"toggle sub-menu-toggle fill-children-current-color\" data-toggle-duration=\"250\" data-toggle-target=\".menu-modal .menu-item-7991 &gt; .sub-menu\" data-toggle-type=\"slidetoggle\"><span class=\"screen-reader-text\">Show sub menu</span><svg aria-hidden=\"true\" class=\"svg-icon\" focusable=\"false\" height=\"12\" role=\"img\" viewbox=\"0 0 20 12\" width=\"20\" xmlns=\"http://www.w3.org/2000/svg\"><polygon fill=\"\" fill-rule=\"evenodd\" points=\"1319.899 365.778 1327.678 358 1329.799 360.121 1319.899 370.021 1310 360.121 1312.121 358\" transform=\"translate(-1310 -358)\"></polygon></svg></button></div><ul class=\"sub-menu\"><li class=\"menu-item menu-item-type-post_type menu-item-object-page menu-item-7999\"><div class=\"ancestor-wrapper\"><a href=\"https://www.wcrf.org/diet-activity-and-cancer/global-cancer-update-programme/\">Global Cancer Update Programme</a></div></li><li class=\"menu-item menu-item-type-post_type menu-item-object-page menu-item-7995\"><div class=\"ancestor-wrapper\"><a href=\"https://www.wcrf.org/diet-activity-and-cancer/cancer-types/\">Cancer types</a></div></li><li class=\"menu-item menu-item-type-post_type menu-item-object-page current-page-ancestor current-page-parent menu-item-7992\"><div class=\"ancestor-wrapper\"><a href=\"https://www.wcrf.org/cancer-trends/\">Cancer trends</a></div></li><li class=\"menu-item menu-item-type-post_type menu-item-object-page menu-item-7994\"><div class=\"ancestor-wrapper\"><a href=\"https://www.wcrf.org/diet-activity-and-cancer/risk-factors/\">Cancer risk factors</a></div></li><li class=\"menu-item menu-item-type-post_type menu-item-object-page menu-item-8000\"><div class=\"ancestor-wrapper\"><a href=\"https://www.wcrf.org/diet-activity-and-cancer/cancer-prevention-recommendations/\">Recommendations</a></div></li><li class=\"menu-item menu-item-type-post_type menu-item-object-page menu-item-7997\"><div class=\"ancestor-wrapper\"><a href=\"https://www.wcrf.org/diet-activity-and-cancer/interactive-cancer-risk-matrix/\">Interactive Cancer Risk Matrix</a></div></li></ul></li><li class=\"menu-item menu-item-type-post_type menu-item-object-page menu-item-has-children menu-item-2908\"><div class=\"ancestor-wrapper\"><a href=\"https://www.wcrf.org/research-we-fund/\">Research we fund</a><button aria-expanded=\"false\" class=\"toggle sub-menu-toggle fill-children-current-color\" data-toggle-duration=\"250\" data-toggle-target=\".menu-modal .menu-item-2908 &gt; .sub-menu\" data-toggle-type=\"slidetoggle\"><span class=\"screen-reader-text\">Show sub menu</span><svg aria-hidden=\"true\" class=\"svg-icon\" focusable=\"false\" height=\"12\" role=\"img\" viewbox=\"0 0 20 12\" width=\"20\" xmlns=\"http://www.w3.org/2000/svg\"><polygon fill=\"\" fill-rule=\"evenodd\" points=\"1319.899 365.778 1327.678 358 1329.799 360.121 1319.899 370.021 1310 360.121 1312.121 358\" transform=\"translate(-1310 -358)\"></polygon></svg></button></div><ul class=\"sub-menu\"><li class=\"menu-item menu-item-type-post_type menu-item-object-page menu-item-10248\"><div class=\"ancestor-wrapper\"><a href=\"https://www.wcrf.org/research-we-fund/grant-programmes/apply-for-a-research-grant/\">Apply for a research grant</a></div></li><li class=\"menu-item menu-item-type-post_type menu-item-object-page menu-item-2907\"><div class=\"ancestor-wrapper\"><a href=\"https://www.wcrf.org/research-we-fund/grant-programmes/\">Grant programmes</a></div></li><li class=\"menu-item menu-item-type-post_type menu-item-object-page menu-item-2733\"><div class=\"ancestor-wrapper\"><a href=\"https://www.wcrf.org/research-we-fund/what-we-are-funding/\">What we are funding</a></div></li><li class=\"menu-item menu-item-type-post_type menu-item-object-page menu-item-2730\"><div class=\"ancestor-wrapper\"><a href=\"https://www.wcrf.org/research-we-fund/research-highlights/\">Research highlights</a></div></li><li class=\"menu-item menu-item-type-post_type menu-item-object-page menu-item-3717\"><div class=\"ancestor-wrapper\"><a href=\"https://www.wcrf.org/research-we-fund/wcrf-academy/\">WCRF Academy</a></div></li></ul></li><li class=\"menu-item menu-item-type-post_type menu-item-object-page current-page-ancestor current-menu-ancestor current-menu-parent current-page-parent current_page_parent current_page_ancestor menu-item-has-children menu-item-8001\"><div class=\"ancestor-wrapper\"><a href=\"https://www.wcrf.org/cancer-trends/\">Cancer trends</a><button aria-expanded=\"false\" class=\"toggle sub-menu-toggle fill-children-current-color\" data-toggle-duration=\"250\" data-toggle-target=\".menu-modal .menu-item-8001 &gt; .sub-menu\" data-toggle-type=\"slidetoggle\"><span class=\"screen-reader-text\">Show sub menu</span><svg aria-hidden=\"true\" class=\"svg-icon\" focusable=\"false\" height=\"12\" role=\"img\" viewbox=\"0 0 20 12\" width=\"20\" xmlns=\"http://www.w3.org/2000/svg\"><polygon fill=\"\" fill-rule=\"evenodd\" points=\"1319.899 365.778 1327.678 358 1329.799 360.121 1319.899 370.021 1310 360.121 1312.121 358\" transform=\"translate(-1310 -358)\"></polygon></svg></button></div><ul class=\"sub-menu\"><li class=\"menu-item menu-item-type-post_type menu-item-object-page current-menu-item page_item page-item-7760 current_page_item menu-item-8004\"><div class=\"ancestor-wrapper\"><a aria-current=\"page\" href=\"https://www.wcrf.org/cancer-trends/worldwide-cancer-data/\">Worldwide cancer data</a></div></li><li class=\"menu-item menu-item-type-post_type menu-item-object-page menu-item-8002\"><div class=\"ancestor-wrapper\"><a href=\"https://www.wcrf.org/cancer-trends/global-cancer-data-by-country/\">Global cancer data by country</a></div></li><li class=\"menu-item menu-item-type-post_type menu-item-object-page menu-item-8003\"><div class=\"ancestor-wrapper\"><a href=\"https://www.wcrf.org/cancer-trends/cancer-rates-human-development-index/\">Cancer rates by Human Development Index</a></div></li></ul></li><li class=\"menu-item menu-item-type-post_type menu-item-object-page menu-item-has-children menu-item-2686\"><div class=\"ancestor-wrapper\"><a href=\"https://www.wcrf.org/policy/\">Policy</a><button aria-expanded=\"false\" class=\"toggle sub-menu-toggle fill-children-current-color\" data-toggle-duration=\"250\" data-toggle-target=\".menu-modal .menu-item-2686 &gt; .sub-menu\" data-toggle-type=\"slidetoggle\"><span class=\"screen-reader-text\">Show sub menu</span><svg aria-hidden=\"true\" class=\"svg-icon\" focusable=\"false\" height=\"12\" role=\"img\" viewbox=\"0 0 20 12\" width=\"20\" xmlns=\"http://www.w3.org/2000/svg\"><polygon fill=\"\" fill-rule=\"evenodd\" points=\"1319.899 365.778 1327.678 358 1329.799 360.121 1319.899 370.021 1310 360.121 1312.121 358\" transform=\"translate(-1310 -358)\"></polygon></svg></button></div><ul class=\"sub-menu\"><li class=\"menu-item menu-item-type-post_type menu-item-object-page menu-item-2567\"><div class=\"ancestor-wrapper\"><a href=\"https://www.wcrf.org/policy/our-policy-work/\">Our policy work</a></div></li><li class=\"menu-item menu-item-type-post_type menu-item-object-page menu-item-9600\"><div class=\"ancestor-wrapper\"><a href=\"https://www.wcrf.org/policy/nutrition-policy/\">Nutrition policy</a></div></li><li class=\"menu-item menu-item-type-post_type menu-item-object-page menu-item-9601\"><div class=\"ancestor-wrapper\"><a href=\"https://www.wcrf.org/policy/physical-activity-policy/\">Physical activity policy</a></div></li><li class=\"menu-item menu-item-type-post_type menu-item-object-page menu-item-2569\"><div class=\"ancestor-wrapper\"><a href=\"https://www.wcrf.org/policy/policy-databases/\">Policy databases</a></div></li><li class=\"menu-item menu-item-type-post_type menu-item-object-page menu-item-3146\"><div class=\"ancestor-wrapper\"><a href=\"https://www.wcrf.org/policy/our-publications/\">Our publications</a></div></li><li class=\"menu-item menu-item-type-post_type menu-item-object-page menu-item-2568\"><div class=\"ancestor-wrapper\"><a href=\"https://www.wcrf.org/policy/policy-newsletter/\">Policy e-newsletter</a></div></li></ul></li><li class=\"menu-item menu-item-type-post_type menu-item-object-page menu-item-has-children menu-item-2785\"><div class=\"ancestor-wrapper\"><a href=\"https://www.wcrf.org/latest/\">Latest</a><button aria-expanded=\"false\" class=\"toggle sub-menu-toggle fill-children-current-color\" data-toggle-duration=\"250\" data-toggle-target=\".menu-modal .menu-item-2785 &gt; .sub-menu\" data-toggle-type=\"slidetoggle\"><span class=\"screen-reader-text\">Show sub menu</span><svg aria-hidden=\"true\" class=\"svg-icon\" focusable=\"false\" height=\"12\" role=\"img\" viewbox=\"0 0 20 12\" width=\"20\" xmlns=\"http://www.w3.org/2000/svg\"><polygon fill=\"\" fill-rule=\"evenodd\" points=\"1319.899 365.778 1327.678 358 1329.799 360.121 1319.899 370.021 1310 360.121 1312.121 358\" transform=\"translate(-1310 -358)\"></polygon></svg></button></div><ul class=\"sub-menu\"><li class=\"menu-item menu-item-type-post_type menu-item-object-page menu-item-3678\"><div class=\"ancestor-wrapper\"><a href=\"https://www.wcrf.org/latest/about-us/\">About us</a></div></li><li class=\"menu-item menu-item-type-post_type menu-item-object-page menu-item-7767\"><div class=\"ancestor-wrapper\"><a href=\"https://www.wcrf.org/latest/about-us/contact-us/\">Contact us</a></div></li><li class=\"menu-item menu-item-type-post_type menu-item-object-page menu-item-6695\"><div class=\"ancestor-wrapper\"><a href=\"https://www.wcrf.org/latest/conferences-events-calendar/\">Conferences and events calendar</a></div></li><li class=\"menu-item menu-item-type-custom menu-item-object-custom menu-item-8596\"><div class=\"ancestor-wrapper\"><a href=\"https://www.wcrf.org/latest/newsletter/\">Sign up to our email newsletter</a></div></li><li class=\"menu-item menu-item-type-post_type menu-item-object-page menu-item-3052\"><div class=\"ancestor-wrapper\"><a href=\"https://www.wcrf.org/our-blog/\">Our blog</a></div></li><li class=\"menu-item menu-item-type-post_type menu-item-object-page menu-item-3257\"><div class=\"ancestor-wrapper\"><a href=\"https://www.wcrf.org/latest/news-and-updates/\">News and updates</a></div></li><li class=\"menu-item menu-item-type-post_type menu-item-object-page menu-item-2786\"><div class=\"ancestor-wrapper\"><a href=\"https://www.wcrf.org/latest/media-centre/\">Media centre</a></div></li><li class=\"menu-item menu-item-type-post_type menu-item-object-page menu-item-2800\"><div class=\"ancestor-wrapper\"><a href=\"https://www.wcrf.org/latest/our-science-and-policy-partnerships/\">Our partnerships</a></div></li></ul></li></ul></nav></div><div class=\"menu-bottom\"></div></div></div></div><div class=\"container breadcrumbs\"><div class=\"row\"><p id=\"breadcrumbs\"><span><span><a href=\"https://www.wcrf.org/\">Home</a></span> - <span><a href=\"https://www.wcrf.org/cancer-trends/\">Cancer trends</a></span> - <span aria-current=\"page\" class=\"breadcrumb_last\">Worldwide cancer data</span></span></p></div></div><div class=\"container\"><div class=\"row\"><div class=\"research_listing_leftside contentPage\"><h1>Worldwide cancer data</h1><div class=\"big-para\"><p>Global cancer statistics for the most common cancers in the world.</p></div><p>Find information about world cancer statistics for the most common types of cancer in 2022, the latest year that data has been made available by GLOBOCAN.</p><p>Including non-melanoma skin cancer (NMSC) there were 19,976,499 cancer cases in 2022.</p><p>When NMSC was excluded, this number dropped to 18,741,966 cancer cases around the world in 2022. Of these, 9,566,825 were in men and 9,175,141 in women. The most common cancers globally are listed in the tables below.</p><p><strong>ASR</strong> = age-standardised rates. These are a summary measure of the rate of disease that a population would have if it had a standard age structure. Standardisation is necessary when comparing populations that differ with respect to age because age has a powerful influence on the risk of dying from cancer.</p><p><a href=\"#tables\">&gt; Jump to tables</a></p><p>With this growing global burden, prevention of cancer is one of the most significant public health challenges of the 21st century. <a href=\"https://www.wcrf.org/diet-activity-and-cancer/cancer-prevention-recommendations/about-our-cancer-prevention-recommendations/\">Our Cancer Prevention Recommendations</a> work together as an overall way of living healthily to prevent cancer through changing dietary patterns, reducing alcohol consumption, increasing physical activity, and achieving and maintaining a healthy body weight.</p><p>As well as action by individuals, achieving healthy patterns of diet and sustained physical activity over the life course requires concerted and integrated action from all sectors of society, including civil society, private sector, and health and other professions.</p><p><a href=\"https://www.wcrf.org/policy/\">&gt; Read more about our global policy work</a></p><h2><a id=\"tables\"></a>Global cancer incidence: both sexes</h2><p>Trachea, bronchus and lung, followed by breast, were the most common cancers worldwide. Cancers of the colorectum were the third most common.</p><table><tbody><tr><th style=\"width: 10%;\">Rank</th><th>Cancer</th><th>New cases (2022)</th><th>ASR</th></tr><tr><td></td><td>All cancers incl. non-melanoma skin cancer</td><td>19,976,499</td><td>196.9</td></tr><tr><td></td><td>All cancers excl. non-melanoma skin cancer</td><td>18,741,966</td><td>186.5</td></tr><tr><td>1</td><td>Trachea, bronchus and lung</td><td>2,480,675</td><td>23.6</td></tr><tr><td>2</td><td>Breast</td><td>2,296,840</td><td>46.8</td></tr><tr><td>3</td><td>Colorectum</td><td>1,926,425</td><td>18.4</td></tr><tr><td>4</td><td>Prostate</td><td>1,467,854</td><td>29.4</td></tr><tr><td>5</td><td>Stomach</td><td>968,784</td><td>9.2</td></tr><tr><td>6</td><td>Liver and intrahepatic bile ducts</td><td>866,136</td><td>8.6</td></tr><tr><td>7</td><td>Thyroid</td><td>821,214</td><td>9.1</td></tr><tr><td>8</td><td>Cervix uteri</td><td>662,301</td><td>14.1</td></tr><tr><td>9</td><td>Bladder</td><td>614,298</td><td>5.6</td></tr><tr><td>10</td><td>Non-Hodgkin lymphoma</td><td>553,389</td><td>5.6</td></tr><tr><td>11</td><td>Oesophagus</td><td>511,054</td><td>5.0</td></tr><tr><td>12</td><td>Pancreas</td><td>510,992</td><td>4.7</td></tr><tr><td>13</td><td>Leukaemia</td><td>487,294</td><td>5.3</td></tr><tr><td>14</td><td>Kidney</td><td>434,840</td><td>4.4</td></tr><tr><td>15</td><td>Corpus uteri</td><td>420,368</td><td>8.4</td></tr><tr><td>16</td><td>Lip, oral cavity</td><td>389,846</td><td>4.0</td></tr><tr><td>17</td><td>Melanoma of skin</td><td>331,722</td><td>3.2</td></tr><tr><td>18</td><td>Ovary</td><td>324,603</td><td>6.7</td></tr><tr><td>19</td><td>Brain, central nervous system</td><td>321,731</td><td>3.5</td></tr><tr><td>20</td><td>Larynx</td><td>189,191</td><td>1.9</td></tr><tr><td>21</td><td>Multiple myeloma</td><td>187,952</td><td>1.8</td></tr><tr><td>22</td><td>Gallbladder</td><td>122,491</td><td>1.2</td></tr><tr><td>23</td><td>Nasopharynx</td><td>120,434</td><td>1.3</td></tr><tr><td>24</td><td>Oropharynx</td><td>106,400</td><td>1.1</td></tr><tr><td>25</td><td>Hypopharynx</td><td>86,257</td><td>0.89</td></tr><tr><td>26</td><td>Hodgkin lymphoma</td><td>82,469</td><td>0.95</td></tr><tr><td>27</td><td>Testis</td><td>72,040</td><td>1.7</td></tr><tr><td>28</td><td>Salivary glands</td><td>55,083</td><td>0.56</td></tr><tr><td>29</td><td>Vulva</td><td>47,336</td><td>0.83</td></tr><tr><td>30</td><td>Penis</td><td>37,700</td><td>0.79</td></tr><tr><td>31</td><td>Kaposi sarcoma</td><td>35,813</td><td>0.41</td></tr><tr><td>32</td><td>Mesothelioma</td><td>30,633</td><td>0.28</td></tr><tr><td>33</td><td>Vagina</td><td>18,819</td><td>0.36</td></tr></tbody></table><h2>Global cancer incidence in men</h2><p>Trachea, bronchus and lung, as well as prostate, were the most common cancers worldwide. Cancers of the colorectum were the third most common.</p><table><tbody><tr><th style=\"width: 10%;\">Rank</th><th>Cancer</th><th>New cases (2022)</th><th>ASR</th></tr><tr><td></td><td>All cancer incl. non-melanoma skin cancer</td><td>10,311,610</td><td>212.6</td></tr><tr><td></td><td>All cancers excl. non-melanoma skin cancer</td><td>9,566,825</td><td>198.6</td></tr><tr><td>1</td><td>Trachea, bronchus and lung</td><td>1,572,045</td><td>32.1</td></tr><tr><td>2</td><td>Prostate</td><td>1,467,854</td><td>29.4</td></tr><tr><td>3</td><td>Colorectum</td><td>1,069,446</td><td>21.9</td></tr><tr><td>4</td><td>Stomach</td><td>627,458</td><td>12.8</td></tr><tr><td>5</td><td>Liver and intrahepatic bile ducts</td><td>600,676</td><td>12.7</td></tr><tr><td>6</td><td>Bladder</td><td>471,293</td><td>9.3</td></tr><tr><td>7</td><td>Oesophagus</td><td>365,225</td><td>7.6</td></tr><tr><td>8</td><td>Non-Hodgkin lymphoma</td><td>311,375</td><td>6.6</td></tr><tr><td>9</td><td>Leukaemia</td><td>278,120</td><td>6.2</td></tr><tr><td>10</td><td>Kidney</td><td>277,800</td><td>5.9</td></tr><tr><td>11</td><td>Pancreas</td><td>269,709</td><td>5.5</td></tr><tr><td>12</td><td>Lip, oral cavity</td><td>268,999</td><td>5.8</td></tr><tr><td>13</td><td>Thyroid</td><td>206,485</td><td>4.6</td></tr><tr><td>14</td><td>Melanoma of skin</td><td>179,953</td><td>3.7</td></tr><tr><td>15</td><td>Brain, central nervous system</td><td>173,699</td><td>3.9</td></tr><tr><td>16</td><td>Larynx</td><td>165,794</td><td>3.5</td></tr><tr><td>17</td><td>Multiple myeloma</td><td>103,805</td><td>2.1</td></tr><tr><td>18</td><td>Oropharynx</td><td>86,339</td><td>1.9</td></tr><tr><td>19</td><td>Nasopharynx</td><td>86,289</td><td>1.9</td></tr><tr><td>20</td><td>Hypopharynx</td><td>72,077</td><td>1.6</td></tr><tr><td>21</td><td>Testis</td><td>72,040</td><td>1.7</td></tr><tr><td>22</td><td>Hodgkin lymphoma</td><td>48,774</td><td>1.1</td></tr><tr><td>23</td><td>Gallbladder</td><td>43,538</td><td>0.88</td></tr><tr><td>24</td><td>Penis</td><td>37,700</td><td>0.79</td></tr><tr><td>25</td><td>Salivary glands</td><td>30,963</td><td>0.66</td></tr><tr><td>26</td><td>Kaposi sarcoma</td><td>24,620</td><td>0.56</td></tr><tr><td>27</td><td>Mesothelioma</td><td>21,410</td><td>0.42</td></tr></tbody></table><h2>Global cancer incidence in women</h2><p>Breast, as well as trachea, bronchus and lung, were the most common cancers worldwide. Cancers of the colorectum were the third most common.</p><table><tbody><tr><th style=\"width: 10%;\">Rank</th><th>Cancer</th><th>New cases (2022)</th><th>ASR</th></tr><tr><td></td><td>All cancers incl. non-melanoma skin cancer</td><td>9,664,889</td><td>186.3</td></tr><tr><td></td><td>All cancers excl. non-melanoma skin cancer</td><td>9,175,141</td><td>178.9</td></tr><tr><td>1</td><td>Breast</td><td>2,296,840</td><td>46.8</td></tr><tr><td>2</td><td>Trachea, bronchus and lung</td><td>908,630</td><td>16.2</td></tr><tr><td>3</td><td>Colorectum</td><td>856,979</td><td>15.2</td></tr><tr><td>4</td><td>Cervix uteri</td><td>662,301</td><td>14.1</td></tr><tr><td>5</td><td>Thyroid</td><td>614,729</td><td>13.6</td></tr><tr><td>6</td><td>Corpus uteri</td><td>420,368</td><td>8.4</td></tr><tr><td>7</td><td>Stomach</td><td>341,326</td><td>6.0</td></tr><tr><td>8</td><td>Ovary</td><td>324,603</td><td>6.7</td></tr><tr><td>9</td><td>Liver and intrahepatic bile ducts</td><td>265,460</td><td>4.8</td></tr><tr><td>10</td><td>Non-Hodgkin lymphoma</td><td>242,014</td><td>4.6</td></tr><tr><td>11</td><td>Pancreas</td><td>241,283</td><td>4.0</td></tr><tr><td>12</td><td>Leukaemia</td><td>209,174</td><td>4.4</td></tr><tr><td>13</td><td>Kidney</td><td>157,040</td><td>3.0</td></tr><tr><td>14</td><td>Melanoma of skin</td><td>151,769</td><td>2.9</td></tr><tr><td>15</td><td>Brain, central nervous system</td><td>148,032</td><td>3.1</td></tr><tr><td>16</td><td>Oesophagus</td><td>145,829</td><td>2.6</td></tr><tr><td>17</td><td>Bladder</td><td>143,005</td><td>2.4</td></tr><tr><td>18</td><td>Lip, oral cavity</td><td>120,847</td><td>2.3</td></tr><tr><td>19</td><td>Multiple myeloma</td><td>84,147</td><td>1.5</td></tr><tr><td>20</td><td>Gallbladder</td><td>78,953</td><td>1.4</td></tr><tr><td>21</td><td>Vulva</td><td>47,336</td><td>0.83</td></tr><tr><td>22</td><td>Nasopharynx</td><td>34,145</td><td>0.73</td></tr><tr><td>23</td><td>Hodgkin lymphoma</td><td>33,695</td><td>0.77</td></tr><tr><td>24</td><td>Salivary glands</td><td>24,120</td><td>0.49</td></tr><tr><td>25</td><td>Larynx</td><td>23,397</td><td>0.45</td></tr><tr><td>26</td><td>Oropharynx</td><td>20,061</td><td>0.39</td></tr><tr><td>27</td><td>Vagina</td><td>18,819</td><td>0.36</td></tr><tr><td>28</td><td>Hypopharynx</td><td>14,180</td><td>0.29</td></tr><tr><td>29</td><td>Kaposi sarcoma</td><td>11,193</td><td>0.26</td></tr><tr><td>30</td><td>Mesothelioma</td><td>9,223</td><td>0.16</td></tr></tbody></table><h3>Notes</h3><p>All cancer excludes non-melanoma skin cancer.</p><p>The data on this page comes from the Global Cancer Observatory, owned by the World Health Organization/International Agency for Research on Cancer, and is used with permission. The cancer incidence figures and ASRs were compiled using the data available <a href=\"https://www.iarc.who.int/\">here</a> (last accessed May 2024). For queries about our cancer statistics please email the Research Interpretation team: <a href=\"mailto:ri@wcrf.org\">ri@wcrf.org</a>.</p><div class=\"taxonomy\"><div class=\"related-content-section\"><div class=\"heading\"><h2>RELATED CONTENT</h2></div><div class=\"relatedContainer-inner\"><div class=\"relatedContainer\"> <a href=\" https://www.wcrf.org/our-blog/differences-in-cancer-incidence-and-mortality-across-the-globe/\">Differences in cancer incidence and mortality across the globe</a><br/></div><div class=\"relatedContainer\"> <a href=\" https://www.wcrf.org/cancer-trends/global-cancer-data-by-country/\">Global cancer data by country</a><br/></div><div class=\"relatedContainer\"> <a href=\" https://www.wcrf.org/cancer-trends/cancer-rates-human-development-index/\">Cancer rates by Human Development Index</a><br/></div><div class=\"relatedContainer\"> <a href=\" https://www.wcrf.org/cancer-trends/cancer-survival-statistics/\">Cancer survival statistics</a><br/></div><div class=\"relatedContainer\"> <a href=\" https://www.wcrf.org/cancer-trends/skin-cancer-statistics/\">Skin cancer statistics</a><br/></div></div></div></div></div><div class=\"sidebar_listing\"><div class=\"social-buttons\"><div class=\"widget widget_text\"><div class=\"widget-content\"><div class=\"textwidget\"><div class=\"heateor_sss_sharing_container heateor_sss_horizontal_sharing\" data-heateor-ss-offset=\"0\" data-heateor-sss-href=\"https://www.wcrf.org/cancer-trends/worldwide-cancer-data/\"><div class=\"heateor_sss_sharing_ul\"><a aria-label=\"Facebook\" class=\"heateor_sss_facebook\" href=\"https://www.facebook.com/sharer/sharer.php?u=https%3A%2F%2Fwww.wcrf.org%2Fcancer-trends%2Fworldwide-cancer-data%2F\" rel=\"nofollow noopener\" style=\"font-size:32px!important;box-shadow:none;display:inline-block;vertical-align:middle\" target=\"_blank\" title=\"Facebook\"><span class=\"heateor_sss_svg\" style=\"background-color:#0765FE;width:24px;height:24px;display:inline-block;opacity:1;float:left;font-size:32px;box-shadow:none;display:inline-block;font-size:16px;padding:0 4px;vertical-align:middle;background-repeat:repeat;overflow:hidden;padding:0;cursor:pointer;box-sizing:content-box\"><svg aria-hidden=\"true\" focusable=\"false\" height=\"100%\" style=\"display:block;\" viewbox=\"0 0 32 32\" width=\"100%\" xmlns=\"http://www.w3.org/2000/svg\"><path d=\"M28 16c0-6.627-5.373-12-12-12S4 9.373 4 16c0 5.628 3.875 10.35 9.101 11.647v-7.98h-2.474V16H13.1v-1.58c0-4.085 1.849-5.978 5.859-5.978.76 0 2.072.15 2.608.298v3.325c-.283-.03-.775-.045-1.386-.045-1.967 0-2.728.745-2.728 2.683V16h3.92l-.673 3.667h-3.247v8.245C23.395 27.195 28 22.135 28 16Z\" fill=\"#fff\"></path></svg></span></a><a aria-label=\"Twitter\" class=\"heateor_sss_button_twitter\" href=\"http://twitter.com/intent/tweet?via=wcrfint&amp;text=Worldwide%20cancer%20data&amp;url=https%3A%2F%2Fwww.wcrf.org%2Fcancer-trends%2Fworldwide-cancer-data%2F\" rel=\"nofollow noopener\" style=\"font-size:32px!important;box-shadow:none;display:inline-block;vertical-align:middle\" target=\"_blank\" title=\"Twitter\"><span class=\"heateor_sss_svg heateor_sss_s__default heateor_sss_s_twitter\" style=\"background-color:#55acee;width:24px;height:24px;display:inline-block;opacity:1;float:left;font-size:32px;box-shadow:none;display:inline-block;font-size:16px;padding:0 4px;vertical-align:middle;background-repeat:repeat;overflow:hidden;padding:0;cursor:pointer;box-sizing:content-box\"><svg aria-hidden=\"true\" focusable=\"false\" height=\"100%\" style=\"display:block;\" viewbox=\"-4 -4 39 39\" width=\"100%\" xmlns=\"http://www.w3.org/2000/svg\"><path d=\"M28 8.557a9.913 9.913 0 0 1-2.828.775 4.93 4.93 0 0 0 2.166-2.725 9.738 9.738 0 0 1-3.13 1.194 4.92 4.92 0 0 0-3.593-1.55 4.924 4.924 0 0 0-4.794 6.049c-4.09-.21-7.72-2.17-10.15-5.15a4.942 4.942 0 0 0-.665 2.477c0 1.71.87 3.214 2.19 4.1a4.968 4.968 0 0 1-2.23-.616v.06c0 2.39 1.7 4.38 3.952 4.83-.414.115-.85.174-1.297.174-.318 0-.626-.03-.928-.086a4.935 4.935 0 0 0 4.6 3.42 9.893 9.893 0 0 1-6.114 2.107c-.398 0-.79-.023-1.175-.068a13.953 13.953 0 0 0 7.55 2.213c9.056 0 14.01-7.507 14.01-14.013 0-.213-.005-.426-.015-.637.96-.695 1.795-1.56 2.455-2.55z\" fill=\"#fff\"></path></svg></span></a><a aria-label=\"Email\" class=\"heateor_sss_email\" href=\"https://www.wcrf.org/cancer-trends/worldwide-cancer-data/\" onclick=\"event.preventDefault();window.open('mailto:?subject=' + decodeURIComponent('Worldwide%20cancer%20data').replace('&amp;', '%26') + '&amp;body=https%3A%2F%2Fwww.wcrf.org%2Fcancer-trends%2Fworldwide-cancer-data%2F', '_blank')\" rel=\"nofollow noopener\" style=\"font-size:32px!important;box-shadow:none;display:inline-block;vertical-align:middle\" title=\"Email\"><span class=\"heateor_sss_svg\" style=\"background-color:#649a3f;width:24px;height:24px;display:inline-block;opacity:1;float:left;font-size:32px;box-shadow:none;display:inline-block;font-size:16px;padding:0 4px;vertical-align:middle;background-repeat:repeat;overflow:hidden;padding:0;cursor:pointer;box-sizing:content-box\"><svg aria-hidden=\"true\" focusable=\"false\" height=\"100%\" style=\"display:block;\" viewbox=\"-.75 -.5 36 36\" width=\"100%\" xmlns=\"http://www.w3.org/2000/svg\"><path d=\"M 5.5 11 h 23 v 1 l -11 6 l -11 -6 v -1 m 0 2 l 11 6 l 11 -6 v 11 h -22 v -11\" fill=\"#fff\" stroke-width=\"1\"></path></svg></span></a><a aria-label=\"Linkedin\" class=\"heateor_sss_button_linkedin\" href=\"https://www.linkedin.com/sharing/share-offsite/?url=https%3A%2F%2Fwww.wcrf.org%2Fcancer-trends%2Fworldwide-cancer-data%2F\" rel=\"nofollow noopener\" style=\"font-size:32px!important;box-shadow:none;display:inline-block;vertical-align:middle\" target=\"_blank\" title=\"Linkedin\"><span class=\"heateor_sss_svg heateor_sss_s__default heateor_sss_s_linkedin\" style=\"background-color:#0077b5;width:24px;height:24px;display:inline-block;opacity:1;float:left;font-size:32px;box-shadow:none;display:inline-block;font-size:16px;padding:0 4px;vertical-align:middle;background-repeat:repeat;overflow:hidden;padding:0;cursor:pointer;box-sizing:content-box\"><svg aria-hidden=\"true\" focusable=\"false\" height=\"100%\" style=\"display:block;\" viewbox=\"0 0 32 32\" width=\"100%\" xmlns=\"http://www.w3.org/2000/svg\"><path d=\"M6.227 12.61h4.19v13.48h-4.19V12.61zm2.095-6.7a2.43 2.43 0 0 1 0 4.86c-1.344 0-2.428-1.09-2.428-2.43s1.084-2.43 2.428-2.43m4.72 6.7h4.02v1.84h.058c.56-1.058 1.927-2.176 3.965-2.176 4.238 0 5.02 2.792 5.02 6.42v7.395h-4.183v-6.56c0-1.564-.03-3.574-2.178-3.574-2.18 0-2.514 1.7-2.514 3.46v6.668h-4.187V12.61z\" fill=\"#fff\"></path></svg></span></a></div><div class=\"heateorSssClear\"></div></div></div></div></div></div><div class=\"sub-nav\"><div class=\"widget advanced-sidebar-menu advanced-sidebar-page\"><div class=\"widget-content\"><ul class=\"child-sidebar-menu\" data-level=\"1\"><li class=\"page_item page-item-7760 current_page_item menu-item current-menu-item\"><a aria-current=\"page\" href=\"https://www.wcrf.org/cancer-trends/worldwide-cancer-data/\">Worldwide cancer data</a></li><li class=\"page_item page-item-7826 menu-item\"><a href=\"https://www.wcrf.org/cancer-trends/cancer-survival-statistics/\">Cancer survival statistics</a></li><li class=\"page_item page-item-7828 menu-item\"><a href=\"https://www.wcrf.org/cancer-trends/cancer-rates-human-development-index/\">Cancer rates by Human Development Index</a></li><li class=\"page_item page-item-7768 menu-item\"><a href=\"https://www.wcrf.org/cancer-trends/global-cancer-data-by-country/\">Global cancer data by country</a></li><li class=\"page_item page-item-7503 menu-item\"><a href=\"https://www.wcrf.org/cancer-trends/bladder-cancer-statistics/\">Bladder cancer statistics</a></li><li class=\"page_item page-item-7158 menu-item\"><a href=\"https://www.wcrf.org/cancer-trends/breast-cancer-statistics/\">Breast cancer statistics</a></li><li class=\"page_item page-item-7593 menu-item\"><a href=\"https://www.wcrf.org/cancer-trends/cervical-cancer-statistics/\">Cervical cancer statistics</a></li><li class=\"page_item page-item-7494 menu-item\"><a href=\"https://www.wcrf.org/cancer-trends/colorectal-cancer-statistics/\">Colorectal cancer statistics</a></li><li class=\"page_item page-item-7551 menu-item\"><a href=\"https://www.wcrf.org/cancer-trends/endometrial-cancer-statistics/\">Endometrial cancer statistics</a></li><li class=\"page_item page-item-7559 menu-item\"><a href=\"https://www.wcrf.org/cancer-trends/gallbladder-cancer-statistics/\">Gallbladder cancer statistics</a></li><li class=\"page_item page-item-7564 menu-item\"><a href=\"https://www.wcrf.org/cancer-trends/kidney-cancer-statistics/\">Kidney cancer statistics</a></li><li class=\"page_item page-item-7567 menu-item\"><a href=\"https://www.wcrf.org/cancer-trends/liver-cancer-statistics/\">Liver cancer statistics</a></li><li class=\"page_item page-item-7570 menu-item\"><a href=\"https://www.wcrf.org/cancer-trends/lung-cancer-statistics/\">Lung cancer statistics</a></li><li class=\"page_item page-item-7575 menu-item\"><a href=\"https://www.wcrf.org/cancer-trends/nasopharyngeal-cancer-statistics/\">Nasopharyngeal cancer statistics</a></li><li class=\"page_item page-item-7572 menu-item\"><a href=\"https://www.wcrf.org/cancer-trends/mouth-and-oral-cancer-statistics/\">Mouth and oral cancer statistics</a></li><li class=\"page_item page-item-7598 menu-item\"><a href=\"https://www.wcrf.org/cancer-trends/oesophageal-cancer-statistics/\">Oesophageal cancer statistics</a></li><li class=\"page_item page-item-7554 menu-item\"><a href=\"https://www.wcrf.org/cancer-trends/ovarian-cancer-statistics/\">Ovarian cancer statistics</a></li><li class=\"page_item page-item-7620 menu-item\"><a href=\"https://www.wcrf.org/cancer-trends/pancreatic-cancer-statistics/\">Pancreatic cancer statistics</a></li><li class=\"page_item page-item-7606 menu-item\"><a href=\"https://www.wcrf.org/cancer-trends/prostate-cancer-statistics/\">Prostate cancer statistics</a></li><li class=\"page_item page-item-7623 menu-item\"><a href=\"https://www.wcrf.org/cancer-trends/skin-cancer-statistics/\">Skin cancer statistics</a></li><li class=\"page_item page-item-7626 menu-item\"><a href=\"https://www.wcrf.org/cancer-trends/stomach-cancer-statistics/\">Stomach cancer statistics</a></li></ul></div></div> <input id=\"page_parent_id\" type=\"hidden\" value=\"0\"/></div></div></div></div><div class=\"footer-nav-widgets-wrapper header-footer-group\"><div class=\"container\"><div class=\"row\"><div class=\"footer-inner col-md-12\"><aside class=\"footer-widgets-outer-wrapper\" role=\"complementary\"><div class=\"footer-widgets-wrapper\"><div class=\"footer-widgets column-one grid-item\"><div class=\"widget widget_text\"><div class=\"widget-content\"><h2 class=\"widget-title subheading heading-size-3\">CONTACT</h2><div class=\"textwidget\"><p class=\"adress\">WCRF International, Upper Ground Floor, 140 Pentonville Road, London N1 9FW</p><p class=\"phone\">Tel: +44 (0)20 7343 4200</p><p class=\"email\"><a href=\"/latest/about-us/contact-us/\">Contact us</a></p><p class=\"media_enq\"><a href=\"/latest/media-centre/\">Media enquiries</a></p></div></div></div><div class=\"widget widget_media_image\"><div class=\"widget-content\"><a href=\"https://twitter.com/wcrfint\"><noscript><img alt=\"\" class=\"image wp-image-6699 attachment-32x32 size-32x32\" decoding=\"async\" height=\"32\" sizes=\"(max-width: 32px) 100vw, 32px\" src=\"https://www.wcrf.org/wp-content/uploads/2021/07/SM-icons-Twitter-150x150.png\" srcset=\"https://www.wcrf.org/wp-content/uploads/2021/07/SM-icons-Twitter-150x150.png 150w, https://www.wcrf.org/wp-content/uploads/2021/07/SM-icons-Twitter.png 300w\" style=\"max-width: 100%; height: auto;\" width=\"32\"/></noscript><img alt=\"\" class=\"lazyload image wp-image-6699 attachment-32x32 size-32x32\" data-sizes=\"(max-width: 32px) 100vw, 32px\" data-src=\"https://www.wcrf.org/wp-content/uploads/2021/07/SM-icons-Twitter-150x150.png\" data-srcset=\"https://www.wcrf.org/wp-content/uploads/2021/07/SM-icons-Twitter-150x150.png 150w, https://www.wcrf.org/wp-content/uploads/2021/07/SM-icons-Twitter.png 300w\" decoding=\"async\" height=\"32\" src=\"data:image/svg+xml,%3Csvg%20xmlns=%22http://www.w3.org/2000/svg%22%20viewBox=%220%200%2032%2032%22%3E%3C/svg%3E\" style=\"max-width: 100%; height: auto;\" width=\"32\"/></a></div></div><div class=\"widget widget_media_image\"><div class=\"widget-content\"><a href=\"https://www.facebook.com/WoCRF\"><noscript><img alt=\"\" class=\"image wp-image-6702 attachment-32x32 size-32x32\" decoding=\"async\" height=\"32\" sizes=\"(max-width: 32px) 100vw, 32px\" src=\"https://www.wcrf.org/wp-content/uploads/2021/07/SM-icons-FB-150x150.png\" srcset=\"https://www.wcrf.org/wp-content/uploads/2021/07/SM-icons-FB-150x150.png 150w, https://www.wcrf.org/wp-content/uploads/2021/07/SM-icons-FB.png 300w\" style=\"max-width: 100%; height: auto;\" width=\"32\"/></noscript><img alt=\"\" class=\"lazyload image wp-image-6702 attachment-32x32 size-32x32\" data-sizes=\"(max-width: 32px) 100vw, 32px\" data-src=\"https://www.wcrf.org/wp-content/uploads/2021/07/SM-icons-FB-150x150.png\" data-srcset=\"https://www.wcrf.org/wp-content/uploads/2021/07/SM-icons-FB-150x150.png 150w, https://www.wcrf.org/wp-content/uploads/2021/07/SM-icons-FB.png 300w\" decoding=\"async\" height=\"32\" src=\"data:image/svg+xml,%3Csvg%20xmlns=%22http://www.w3.org/2000/svg%22%20viewBox=%220%200%2032%2032%22%3E%3C/svg%3E\" style=\"max-width: 100%; height: auto;\" width=\"32\"/></a></div></div><div class=\"widget widget_media_image\"><div class=\"widget-content\"><a href=\"https://www.youtube.com/channel/UC13kzE0Oj-xfrMlNaGzf1WQ\"><noscript><img alt=\"\" class=\"image wp-image-6698 attachment-32x32 size-32x32\" decoding=\"async\" height=\"32\" sizes=\"(max-width: 32px) 100vw, 32px\" src=\"https://www.wcrf.org/wp-content/uploads/2021/07/SM-icons-YT-150x150.png\" srcset=\"https://www.wcrf.org/wp-content/uploads/2021/07/SM-icons-YT-150x150.png 150w, https://www.wcrf.org/wp-content/uploads/2021/07/SM-icons-YT.png 300w\" style=\"max-width: 100%; height: auto;\" width=\"32\"/></noscript><img alt=\"\" class=\"lazyload image wp-image-6698 attachment-32x32 size-32x32\" data-sizes=\"(max-width: 32px) 100vw, 32px\" data-src=\"https://www.wcrf.org/wp-content/uploads/2021/07/SM-icons-YT-150x150.png\" data-srcset=\"https://www.wcrf.org/wp-content/uploads/2021/07/SM-icons-YT-150x150.png 150w, https://www.wcrf.org/wp-content/uploads/2021/07/SM-icons-YT.png 300w\" decoding=\"async\" height=\"32\" src=\"data:image/svg+xml,%3Csvg%20xmlns=%22http://www.w3.org/2000/svg%22%20viewBox=%220%200%2032%2032%22%3E%3C/svg%3E\" style=\"max-width: 100%; height: auto;\" width=\"32\"/></a></div></div><div class=\"widget widget_media_image\"><div class=\"widget-content\"><a href=\"https://www.linkedin.com/company/world-cancer-research-fund\"><noscript><img alt=\"\" class=\"image wp-image-6701 attachment-32x32 size-32x32\" decoding=\"async\" height=\"32\" sizes=\"(max-width: 32px) 100vw, 32px\" src=\"https://www.wcrf.org/wp-content/uploads/2021/07/SM-icons-In-150x150.png\" srcset=\"https://www.wcrf.org/wp-content/uploads/2021/07/SM-icons-In-150x150.png 150w, https://www.wcrf.org/wp-content/uploads/2021/07/SM-icons-In.png 300w\" style=\"max-width: 100%; height: auto;\" width=\"32\"/></noscript><img alt=\"\" class=\"lazyload image wp-image-6701 attachment-32x32 size-32x32\" data-sizes=\"(max-width: 32px) 100vw, 32px\" data-src=\"https://www.wcrf.org/wp-content/uploads/2021/07/SM-icons-In-150x150.png\" data-srcset=\"https://www.wcrf.org/wp-content/uploads/2021/07/SM-icons-In-150x150.png 150w, https://www.wcrf.org/wp-content/uploads/2021/07/SM-icons-In.png 300w\" decoding=\"async\" height=\"32\" src=\"data:image/svg+xml,%3Csvg%20xmlns=%22http://www.w3.org/2000/svg%22%20viewBox=%220%200%2032%2032%22%3E%3C/svg%3E\" style=\"max-width: 100%; height: auto;\" width=\"32\"/></a></div></div></div><div class=\"footer-widgets column-two grid-item\"><div class=\"widget widget_text\"><div class=\"widget-content\"><h2 class=\"widget-title subheading heading-size-3\">QUICK LINKS</h2><div class=\"textwidget\"><p><a href=\"/latest/about-us/\">About us</a><br/> <a href=\"/latest/about-us/our-network/\">Our network</a><br/> <a href=\"/our-blog/\">Read our blog</a><br/> <a href=\"/diet-and-cancer/continuous-update-project/\">Global Cancer Update Programme</a><br/> <a href=\"/dietandcancer/about-our-cancer-prevention-recommendations/\">Cancer Prevention Recommendations</a></p></div></div></div><div class=\"widget widget_text\"><div class=\"widget-content\"><h2 class=\"widget-title subheading heading-size-3\">UPCOMING EVENTS</h2><div class=\"textwidget\"><p class=\"upcoming-event\"><a href=\"/latest/conferences-events-calendar/\">Conferences and events</a></p></div></div></div><div class=\"widget widget_text\"><div class=\"widget-content\"><h2 class=\"widget-title subheading heading-size-3\">GET UPDATES</h2><div class=\"textwidget\"><div class=\"signup-btn\"><a href=\"/latest/newsletter/\">SIGN UP FOR NEWS</a></div></div></div></div></div><div class=\"footer-widgets column-three grid-item\"><div class=\"widget widget_text\"><div class=\"widget-content\"><h2 class=\"widget-title subheading heading-size-3\">OUR MISSION</h2><div class=\"textwidget\"><p style=\"font-weight: 400;\">World Cancer Research Fund International examines how diet, weight and physical activity affect your risk of developing and surviving cancer.</p><p style=\"font-weight: 400;\">As part of an international network of charities, we have been funding life-saving research, influencing global public health policy and educating the public since 1982.</p></div></div></div></div></div></aside><div class=\"footer-top has-footer-menu\"><nav aria-label=\"Footer\" class=\"footer-menu-wrapper\" role=\"navigation\"><ul class=\"footer-menu reset-list-style\"><li class=\"menu-item menu-item-type-post_type menu-item-object-page menu-item-3377\" id=\"menu-item-3377\"><a href=\"https://www.wcrf.org/latest/media-centre/\">Media</a></li><li class=\"menu-item menu-item-type-post_type menu-item-object-page menu-item-3378\" id=\"menu-item-3378\"><a href=\"https://www.wcrf.org/latest/about-us/jobs/\">Jobs</a></li><li class=\"menu-item menu-item-type-post_type menu-item-object-page menu-item-3379\" id=\"menu-item-3379\"><a href=\"https://www.wcrf.org/latest/about-us/user-agreement/copyright/\">Copyright</a></li><li class=\"menu-item menu-item-type-post_type menu-item-object-page menu-item-3383\" id=\"menu-item-3383\"><a href=\"https://www.wcrf.org/latest/about-us/user-agreement/\">User agreement</a></li><li class=\"menu-item menu-item-type-post_type menu-item-object-page menu-item-3380\" id=\"menu-item-3380\"><a href=\"https://www.wcrf.org/latest/about-us/user-agreement/privacy-notice/\">Privacy notice</a></li></ul></nav></div></div></div></div></div><div class=\"ald_laser_loader\"><div class=\"ald_loader_progress\"></div></div> <noscript><style>.lazyload{display:none;}</style></noscript><script data-noptimize=\"1\">window.lazySizesConfig=window.lazySizesConfig||{};window.lazySizesConfig.loadMode=1;</script><script async=\"\" data-noptimize=\"1\" src=\"https://www.wcrf.org/wp-content/plugins/autoptimize/classes/external/js/lazysizes.min.js\"></script><script id=\"ppress-frontend-script-js-extra\">var pp_ajax_form = {\"ajaxurl\":\"https:\\/\\/www.wcrf.org\\/wp-admin\\/admin-ajax.php\",\"confirm_delete\":\"Are you sure?\",\"deleting_text\":\"Deleting...\",\"deleting_error\":\"An error occurred. Please try again.\",\"nonce\":\"187cc02ca9\",\"disable_ajax_form\":\"false\",\"is_checkout\":\"0\",\"is_checkout_tax_enabled\":\"0\"};</script> <script id=\"jquery-ui-datepicker-js-after\">jQuery(function(jQuery){jQuery.datepicker.setDefaults({\"closeText\":\"Close\",\"currentText\":\"Today\",\"monthNames\":[\"January\",\"February\",\"March\",\"April\",\"May\",\"June\",\"July\",\"August\",\"September\",\"October\",\"November\",\"December\"],\"monthNamesShort\":[\"Jan\",\"Feb\",\"Mar\",\"Apr\",\"May\",\"Jun\",\"Jul\",\"Aug\",\"Sep\",\"Oct\",\"Nov\",\"Dec\"],\"nextText\":\"Next\",\"prevText\":\"Previous\",\"dayNames\":[\"Sunday\",\"Monday\",\"Tuesday\",\"Wednesday\",\"Thursday\",\"Friday\",\"Saturday\"],\"dayNamesShort\":[\"Sun\",\"Mon\",\"Tue\",\"Wed\",\"Thu\",\"Fri\",\"Sat\"],\"dayNamesMin\":[\"S\",\"M\",\"T\",\"W\",\"T\",\"F\",\"S\"],\"dateFormat\":\"dd MM yy\",\"firstDay\":1,\"isRTL\":false});});</script> <script id=\"heateor_sss_sharing_js-js-before\">function heateorSssLoadEvent(e) {var t=window.onload;if (typeof window.onload!=\"function\") {window.onload=e}else{window.onload=function() {t();e()}}};\tvar heateorSssSharingAjaxUrl = 'https://www.wcrf.org/wp-admin/admin-ajax.php', heateorSssCloseIconPath = 'https://www.wcrf.org/wp-content/plugins/sassy-social-share/public/../images/close.png', heateorSssPluginIconPath = 'https://www.wcrf.org/wp-content/plugins/sassy-social-share/public/../images/logo.png', heateorSssHorizontalSharingCountEnable = 0, heateorSssVerticalSharingCountEnable = 0, heateorSssSharingOffset = -10; var heateorSssMobileStickySharingEnabled = 0;var heateorSssCopyLinkMessage = \"Link copied.\";var heateorSssUrlCountFetched = [], heateorSssSharesText = 'Shares', heateorSssShareText = 'Share';function heateorSssPopup(e) {window.open(e,\"popUpWindow\",\"height=400,width=600,left=400,top=100,resizable,scrollbars,toolbar=0,personalbar=0,menubar=no,location=no,directories=no,status\")}</script> <script>(function(d){var s=d.createElement(\"script\");s.type=\"text/javascript\";s.src=\"https://a.omappapi.com/app/js/api.min.js\";s.async=true;s.id=\"omapi-script\";d.getElementsByTagName(\"head\")[0].appendChild(s);})(document);</script><script id=\"ald-scripts-js-extra\">var ald_params = {\"nonce\":\"815504f08f\",\"ajaxurl\":\"https:\\/\\/www.wcrf.org\\/wp-admin\\/admin-ajax.php\",\"ald_pro\":\"0\"};</script> <script type=\"text/javascript\">jQuery(document).ready(function($){var loader='<div class=\"lds-ellipsis\"><div></div><div></div><div></div><div></div></div>';var flag=false;var main_xhr;var LoadMorePushAjax=function(url,args){jQuery('.ald_loader_progress').css({\"-webkit-transform\":\"translate3d(-100%, 0px, 0px)\",\"-ms-transform\":\"translate3d(-100%, 0px, 0px)\",\"transform\":\"translate3d(-100%, 0px, 0px)\",});if(args.data_implement_selectors){var dis=JSON.parse(args.data_implement_selectors)}if(main_xhr&&main_xhr.readyState!=4){main_xhr.abort()}args.target_url=url;main_xhr=jQuery.ajax({url:url,asynch:true,beforeSend:function(){jQuery('.ald_laser_loader').addClass('show');jQuery('.ald_loader_progress').css({\"transition-duration\":\"2000ms\",\"-webkit-transform\":\"translate3d(-20%, 0px, 0px)\",\"-ms-transform\":\"translate3d(-20%, 0px, 0px)\",\"transform\":\"translate3d(-20%, 0px, 0px)\",});flag=true},success:function(data){jQuery(document).trigger('ald_ajax_content_ready',[data,args]);if(dis){for(var key in dis){var selector=dis[key].data_selector;var type=dis[key].implement_type;if(selector){var newData=jQuery(selector,data).html();if(type==\"insert_before\"){jQuery(selector).prepend(newData)}else if(type==\"insert_after\"){jQuery(selector).append(newData)}else{jQuery(selector).html(newData)}}}}jQuery(document).find('.tf_posts_navigation').removeClass('loading');jQuery('.ald-ajax-btn[data-alm-click-selector]').each(function(){if(jQuery(this).data('alm-click-selector')==args.click_selector){jQuery(this).removeClass('loading')}});jQuery('.ald_loader_progress').css({\"transition-duration\":\"500ms\",\"-webkit-transform\":\"translate3d(0%, 0px, 0px)\",\"-ms-transform\":\"translate3d(0%, 0px, 0px)\",\"transform\":\"translate3d(0%, 0px, 0px)\",});setTimeout(function(){jQuery('.ald_laser_loader').removeClass('show');jQuery('.ald_loader_progress').css({\"transition-duration\":\"0ms\",\"-webkit-transform\":\"translate3d(-100%, 0px, 0px)\",\"-ms-transform\":\"translate3d(-100%, 0px, 0px)\",\"transform\":\"translate3d(-100%, 0px, 0px)\",})},300);jQuery(document).trigger('ald_ajax_content_loaded',data);jQuery(document).trigger('ald_ajax_content_success',[args]);flag=false}})}});</script> <script type=\"text/javascript\">var omapi_data = {\"object_id\":7760,\"object_key\":\"page\",\"object_type\":\"post\",\"term_ids\":[330],\"wp_json\":\"https:\\/\\/www.wcrf.org\\/wp-json\",\"wc_active\":false,\"edd_active\":false,\"nonce\":\"ae627f9955\"};</script> <script>window.lazyLoadOptions = {\n",
      "                elements_selector: \"iframe[data-lazy-src]\",\n",
      "                data_src: \"lazy-src\",\n",
      "                data_srcset: \"lazy-srcset\",\n",
      "                data_sizes: \"lazy-sizes\",\n",
      "                class_loading: \"lazyloading\",\n",
      "                class_loaded: \"lazyloaded\",\n",
      "                threshold: 300,\n",
      "                callback_loaded: function(element) {\n",
      "                    if ( element.tagName === \"IFRAME\" && element.dataset.rocketLazyload == \"fitvidscompatible\" ) {\n",
      "                        if (element.classList.contains(\"lazyloaded\") ) {\n",
      "                            if (typeof window.jQuery != \"undefined\") {\n",
      "                                if (jQuery.fn.fitVids) {\n",
      "                                    jQuery(element).parent().fitVids();\n",
      "                                }\n",
      "                            }\n",
      "                        }\n",
      "                    }\n",
      "                }};\n",
      "        window.addEventListener('LazyLoad::Initialized', function (e) {\n",
      "            var lazyLoadInstance = e.detail.instance;\n",
      "\n",
      "            if (window.MutationObserver) {\n",
      "                var observer = new MutationObserver(function(mutations) {\n",
      "                    var image_count = 0;\n",
      "                    var iframe_count = 0;\n",
      "                    var rocketlazy_count = 0;\n",
      "\n",
      "                    mutations.forEach(function(mutation) {\n",
      "                        for (i = 0; i < mutation.addedNodes.length; i++) {\n",
      "                            if (typeof mutation.addedNodes[i].getElementsByTagName !== 'function') {\n",
      "                                return;\n",
      "                            }\n",
      "\n",
      "                           if (typeof mutation.addedNodes[i].getElementsByClassName !== 'function') {\n",
      "                                return;\n",
      "                            }\n",
      "\n",
      "                            images = mutation.addedNodes[i].getElementsByTagName('img');\n",
      "                            is_image = mutation.addedNodes[i].tagName == \"IMG\";\n",
      "                            iframes = mutation.addedNodes[i].getElementsByTagName('iframe');\n",
      "                            is_iframe = mutation.addedNodes[i].tagName == \"IFRAME\";\n",
      "                            rocket_lazy = mutation.addedNodes[i].getElementsByClassName('rocket-lazyload');\n",
      "\n",
      "                            image_count += images.length;\n",
      "\t\t\t                iframe_count += iframes.length;\n",
      "\t\t\t                rocketlazy_count += rocket_lazy.length;\n",
      "\n",
      "                            if(is_image){\n",
      "                                image_count += 1;\n",
      "                            }\n",
      "\n",
      "                            if(is_iframe){\n",
      "                                iframe_count += 1;\n",
      "                            }\n",
      "                        }\n",
      "                    } );\n",
      "\n",
      "                    if(image_count > 0 || iframe_count > 0 || rocketlazy_count > 0){\n",
      "                        lazyLoadInstance.update();\n",
      "                    }\n",
      "                } );\n",
      "\n",
      "                var b      = document.getElementsByTagName(\"body\")[0];\n",
      "                var config = { childList: true, subtree: true };\n",
      "\n",
      "                observer.observe(b, config);\n",
      "            }\n",
      "        }, false);</script> <script defer=\"\" src=\"https://www.wcrf.org/wp-content/cache/autoptimize/js/autoptimize_2bf68d39658ef06300c6e5011a0a6653.js\"></script></body></html>\n"
     ]
    }
   ],
   "source": [
    "print(soup)"
   ]
  },
  {
   "cell_type": "code",
   "execution_count": 6,
   "id": "c37dc505",
   "metadata": {},
   "outputs": [
    {
     "data": {
      "text/plain": [
       "<table><tbody><tr><th style=\"width: 10%;\">Rank</th><th>Cancer</th><th>New cases (2022)</th><th>ASR</th></tr><tr><td></td><td>All cancers incl. non-melanoma skin cancer</td><td>19,976,499</td><td>196.9</td></tr><tr><td></td><td>All cancers excl. non-melanoma skin cancer</td><td>18,741,966</td><td>186.5</td></tr><tr><td>1</td><td>Trachea, bronchus and lung</td><td>2,480,675</td><td>23.6</td></tr><tr><td>2</td><td>Breast</td><td>2,296,840</td><td>46.8</td></tr><tr><td>3</td><td>Colorectum</td><td>1,926,425</td><td>18.4</td></tr><tr><td>4</td><td>Prostate</td><td>1,467,854</td><td>29.4</td></tr><tr><td>5</td><td>Stomach</td><td>968,784</td><td>9.2</td></tr><tr><td>6</td><td>Liver and intrahepatic bile ducts</td><td>866,136</td><td>8.6</td></tr><tr><td>7</td><td>Thyroid</td><td>821,214</td><td>9.1</td></tr><tr><td>8</td><td>Cervix uteri</td><td>662,301</td><td>14.1</td></tr><tr><td>9</td><td>Bladder</td><td>614,298</td><td>5.6</td></tr><tr><td>10</td><td>Non-Hodgkin lymphoma</td><td>553,389</td><td>5.6</td></tr><tr><td>11</td><td>Oesophagus</td><td>511,054</td><td>5.0</td></tr><tr><td>12</td><td>Pancreas</td><td>510,992</td><td>4.7</td></tr><tr><td>13</td><td>Leukaemia</td><td>487,294</td><td>5.3</td></tr><tr><td>14</td><td>Kidney</td><td>434,840</td><td>4.4</td></tr><tr><td>15</td><td>Corpus uteri</td><td>420,368</td><td>8.4</td></tr><tr><td>16</td><td>Lip, oral cavity</td><td>389,846</td><td>4.0</td></tr><tr><td>17</td><td>Melanoma of skin</td><td>331,722</td><td>3.2</td></tr><tr><td>18</td><td>Ovary</td><td>324,603</td><td>6.7</td></tr><tr><td>19</td><td>Brain, central nervous system</td><td>321,731</td><td>3.5</td></tr><tr><td>20</td><td>Larynx</td><td>189,191</td><td>1.9</td></tr><tr><td>21</td><td>Multiple myeloma</td><td>187,952</td><td>1.8</td></tr><tr><td>22</td><td>Gallbladder</td><td>122,491</td><td>1.2</td></tr><tr><td>23</td><td>Nasopharynx</td><td>120,434</td><td>1.3</td></tr><tr><td>24</td><td>Oropharynx</td><td>106,400</td><td>1.1</td></tr><tr><td>25</td><td>Hypopharynx</td><td>86,257</td><td>0.89</td></tr><tr><td>26</td><td>Hodgkin lymphoma</td><td>82,469</td><td>0.95</td></tr><tr><td>27</td><td>Testis</td><td>72,040</td><td>1.7</td></tr><tr><td>28</td><td>Salivary glands</td><td>55,083</td><td>0.56</td></tr><tr><td>29</td><td>Vulva</td><td>47,336</td><td>0.83</td></tr><tr><td>30</td><td>Penis</td><td>37,700</td><td>0.79</td></tr><tr><td>31</td><td>Kaposi sarcoma</td><td>35,813</td><td>0.41</td></tr><tr><td>32</td><td>Mesothelioma</td><td>30,633</td><td>0.28</td></tr><tr><td>33</td><td>Vagina</td><td>18,819</td><td>0.36</td></tr></tbody></table>"
      ]
     },
     "execution_count": 6,
     "metadata": {},
     "output_type": "execute_result"
    }
   ],
   "source": [
    "soup.find('table')"
   ]
  },
  {
   "cell_type": "code",
   "execution_count": 7,
   "id": "bf140ffa",
   "metadata": {},
   "outputs": [
    {
     "data": {
      "text/plain": [
       "<table><tbody><tr><th style=\"width: 10%;\">Rank</th><th>Cancer</th><th>New cases (2022)</th><th>ASR</th></tr><tr><td></td><td>All cancers incl. non-melanoma skin cancer</td><td>19,976,499</td><td>196.9</td></tr><tr><td></td><td>All cancers excl. non-melanoma skin cancer</td><td>18,741,966</td><td>186.5</td></tr><tr><td>1</td><td>Trachea, bronchus and lung</td><td>2,480,675</td><td>23.6</td></tr><tr><td>2</td><td>Breast</td><td>2,296,840</td><td>46.8</td></tr><tr><td>3</td><td>Colorectum</td><td>1,926,425</td><td>18.4</td></tr><tr><td>4</td><td>Prostate</td><td>1,467,854</td><td>29.4</td></tr><tr><td>5</td><td>Stomach</td><td>968,784</td><td>9.2</td></tr><tr><td>6</td><td>Liver and intrahepatic bile ducts</td><td>866,136</td><td>8.6</td></tr><tr><td>7</td><td>Thyroid</td><td>821,214</td><td>9.1</td></tr><tr><td>8</td><td>Cervix uteri</td><td>662,301</td><td>14.1</td></tr><tr><td>9</td><td>Bladder</td><td>614,298</td><td>5.6</td></tr><tr><td>10</td><td>Non-Hodgkin lymphoma</td><td>553,389</td><td>5.6</td></tr><tr><td>11</td><td>Oesophagus</td><td>511,054</td><td>5.0</td></tr><tr><td>12</td><td>Pancreas</td><td>510,992</td><td>4.7</td></tr><tr><td>13</td><td>Leukaemia</td><td>487,294</td><td>5.3</td></tr><tr><td>14</td><td>Kidney</td><td>434,840</td><td>4.4</td></tr><tr><td>15</td><td>Corpus uteri</td><td>420,368</td><td>8.4</td></tr><tr><td>16</td><td>Lip, oral cavity</td><td>389,846</td><td>4.0</td></tr><tr><td>17</td><td>Melanoma of skin</td><td>331,722</td><td>3.2</td></tr><tr><td>18</td><td>Ovary</td><td>324,603</td><td>6.7</td></tr><tr><td>19</td><td>Brain, central nervous system</td><td>321,731</td><td>3.5</td></tr><tr><td>20</td><td>Larynx</td><td>189,191</td><td>1.9</td></tr><tr><td>21</td><td>Multiple myeloma</td><td>187,952</td><td>1.8</td></tr><tr><td>22</td><td>Gallbladder</td><td>122,491</td><td>1.2</td></tr><tr><td>23</td><td>Nasopharynx</td><td>120,434</td><td>1.3</td></tr><tr><td>24</td><td>Oropharynx</td><td>106,400</td><td>1.1</td></tr><tr><td>25</td><td>Hypopharynx</td><td>86,257</td><td>0.89</td></tr><tr><td>26</td><td>Hodgkin lymphoma</td><td>82,469</td><td>0.95</td></tr><tr><td>27</td><td>Testis</td><td>72,040</td><td>1.7</td></tr><tr><td>28</td><td>Salivary glands</td><td>55,083</td><td>0.56</td></tr><tr><td>29</td><td>Vulva</td><td>47,336</td><td>0.83</td></tr><tr><td>30</td><td>Penis</td><td>37,700</td><td>0.79</td></tr><tr><td>31</td><td>Kaposi sarcoma</td><td>35,813</td><td>0.41</td></tr><tr><td>32</td><td>Mesothelioma</td><td>30,633</td><td>0.28</td></tr><tr><td>33</td><td>Vagina</td><td>18,819</td><td>0.36</td></tr></tbody></table>"
      ]
     },
     "execution_count": 7,
     "metadata": {},
     "output_type": "execute_result"
    }
   ],
   "source": [
    "soup.find_all('table')[0]"
   ]
  },
  {
   "cell_type": "code",
   "execution_count": 8,
   "id": "24a2cf59",
   "metadata": {},
   "outputs": [],
   "source": [
    "table = soup.find_all('table')[0]"
   ]
  },
  {
   "cell_type": "code",
   "execution_count": 9,
   "id": "99862b6e",
   "metadata": {},
   "outputs": [
    {
     "name": "stdout",
     "output_type": "stream",
     "text": [
      "<table><tbody><tr><th style=\"width: 10%;\">Rank</th><th>Cancer</th><th>New cases (2022)</th><th>ASR</th></tr><tr><td></td><td>All cancers incl. non-melanoma skin cancer</td><td>19,976,499</td><td>196.9</td></tr><tr><td></td><td>All cancers excl. non-melanoma skin cancer</td><td>18,741,966</td><td>186.5</td></tr><tr><td>1</td><td>Trachea, bronchus and lung</td><td>2,480,675</td><td>23.6</td></tr><tr><td>2</td><td>Breast</td><td>2,296,840</td><td>46.8</td></tr><tr><td>3</td><td>Colorectum</td><td>1,926,425</td><td>18.4</td></tr><tr><td>4</td><td>Prostate</td><td>1,467,854</td><td>29.4</td></tr><tr><td>5</td><td>Stomach</td><td>968,784</td><td>9.2</td></tr><tr><td>6</td><td>Liver and intrahepatic bile ducts</td><td>866,136</td><td>8.6</td></tr><tr><td>7</td><td>Thyroid</td><td>821,214</td><td>9.1</td></tr><tr><td>8</td><td>Cervix uteri</td><td>662,301</td><td>14.1</td></tr><tr><td>9</td><td>Bladder</td><td>614,298</td><td>5.6</td></tr><tr><td>10</td><td>Non-Hodgkin lymphoma</td><td>553,389</td><td>5.6</td></tr><tr><td>11</td><td>Oesophagus</td><td>511,054</td><td>5.0</td></tr><tr><td>12</td><td>Pancreas</td><td>510,992</td><td>4.7</td></tr><tr><td>13</td><td>Leukaemia</td><td>487,294</td><td>5.3</td></tr><tr><td>14</td><td>Kidney</td><td>434,840</td><td>4.4</td></tr><tr><td>15</td><td>Corpus uteri</td><td>420,368</td><td>8.4</td></tr><tr><td>16</td><td>Lip, oral cavity</td><td>389,846</td><td>4.0</td></tr><tr><td>17</td><td>Melanoma of skin</td><td>331,722</td><td>3.2</td></tr><tr><td>18</td><td>Ovary</td><td>324,603</td><td>6.7</td></tr><tr><td>19</td><td>Brain, central nervous system</td><td>321,731</td><td>3.5</td></tr><tr><td>20</td><td>Larynx</td><td>189,191</td><td>1.9</td></tr><tr><td>21</td><td>Multiple myeloma</td><td>187,952</td><td>1.8</td></tr><tr><td>22</td><td>Gallbladder</td><td>122,491</td><td>1.2</td></tr><tr><td>23</td><td>Nasopharynx</td><td>120,434</td><td>1.3</td></tr><tr><td>24</td><td>Oropharynx</td><td>106,400</td><td>1.1</td></tr><tr><td>25</td><td>Hypopharynx</td><td>86,257</td><td>0.89</td></tr><tr><td>26</td><td>Hodgkin lymphoma</td><td>82,469</td><td>0.95</td></tr><tr><td>27</td><td>Testis</td><td>72,040</td><td>1.7</td></tr><tr><td>28</td><td>Salivary glands</td><td>55,083</td><td>0.56</td></tr><tr><td>29</td><td>Vulva</td><td>47,336</td><td>0.83</td></tr><tr><td>30</td><td>Penis</td><td>37,700</td><td>0.79</td></tr><tr><td>31</td><td>Kaposi sarcoma</td><td>35,813</td><td>0.41</td></tr><tr><td>32</td><td>Mesothelioma</td><td>30,633</td><td>0.28</td></tr><tr><td>33</td><td>Vagina</td><td>18,819</td><td>0.36</td></tr></tbody></table>\n"
     ]
    }
   ],
   "source": [
    "print(table)"
   ]
  },
  {
   "cell_type": "code",
   "execution_count": 10,
   "id": "6328f94e",
   "metadata": {},
   "outputs": [],
   "source": [
    "data_titles = table.find_all('th')"
   ]
  },
  {
   "cell_type": "code",
   "execution_count": 11,
   "id": "fbb28d94",
   "metadata": {},
   "outputs": [
    {
     "data": {
      "text/plain": [
       "[<th style=\"width: 10%;\">Rank</th>,\n",
       " <th>Cancer</th>,\n",
       " <th>New cases (2022)</th>,\n",
       " <th>ASR</th>]"
      ]
     },
     "execution_count": 11,
     "metadata": {},
     "output_type": "execute_result"
    }
   ],
   "source": [
    "data_titles"
   ]
  },
  {
   "cell_type": "code",
   "execution_count": 12,
   "id": "b948397a",
   "metadata": {},
   "outputs": [
    {
     "name": "stdout",
     "output_type": "stream",
     "text": [
      "['Rank', 'Cancer', 'New cases (2022)', 'ASR']\n"
     ]
    }
   ],
   "source": [
    "table_titles = [title.text.strip() for title in data_titles]\n",
    "\n",
    "print(table_titles)"
   ]
  },
  {
   "cell_type": "code",
   "execution_count": 13,
   "id": "7a2a61b3",
   "metadata": {},
   "outputs": [],
   "source": [
    "import pandas as pd"
   ]
  },
  {
   "cell_type": "code",
   "execution_count": 14,
   "id": "20171246",
   "metadata": {},
   "outputs": [
    {
     "data": {
      "text/html": [
       "<div>\n",
       "<style scoped>\n",
       "    .dataframe tbody tr th:only-of-type {\n",
       "        vertical-align: middle;\n",
       "    }\n",
       "\n",
       "    .dataframe tbody tr th {\n",
       "        vertical-align: top;\n",
       "    }\n",
       "\n",
       "    .dataframe thead th {\n",
       "        text-align: right;\n",
       "    }\n",
       "</style>\n",
       "<table border=\"1\" class=\"dataframe\">\n",
       "  <thead>\n",
       "    <tr style=\"text-align: right;\">\n",
       "      <th></th>\n",
       "      <th>Rank</th>\n",
       "      <th>Cancer</th>\n",
       "      <th>New cases (2022)</th>\n",
       "      <th>ASR</th>\n",
       "    </tr>\n",
       "  </thead>\n",
       "  <tbody>\n",
       "  </tbody>\n",
       "</table>\n",
       "</div>"
      ],
      "text/plain": [
       "Empty DataFrame\n",
       "Columns: [Rank, Cancer, New cases (2022), ASR]\n",
       "Index: []"
      ]
     },
     "execution_count": 14,
     "metadata": {},
     "output_type": "execute_result"
    }
   ],
   "source": [
    "df = pd.DataFrame(columns = table_titles)\n",
    "\n",
    "df"
   ]
  },
  {
   "cell_type": "code",
   "execution_count": 15,
   "id": "fdaccd2e",
   "metadata": {},
   "outputs": [],
   "source": [
    "column_data = table.find_all('tr')"
   ]
  },
  {
   "cell_type": "code",
   "execution_count": 16,
   "id": "ab44268d-d1ba-4b0e-a282-21d0ace37c2b",
   "metadata": {},
   "outputs": [
    {
     "data": {
      "text/plain": [
       "[<tr><th style=\"width: 10%;\">Rank</th><th>Cancer</th><th>New cases (2022)</th><th>ASR</th></tr>,\n",
       " <tr><td></td><td>All cancers incl. non-melanoma skin cancer</td><td>19,976,499</td><td>196.9</td></tr>,\n",
       " <tr><td></td><td>All cancers excl. non-melanoma skin cancer</td><td>18,741,966</td><td>186.5</td></tr>,\n",
       " <tr><td>1</td><td>Trachea, bronchus and lung</td><td>2,480,675</td><td>23.6</td></tr>,\n",
       " <tr><td>2</td><td>Breast</td><td>2,296,840</td><td>46.8</td></tr>,\n",
       " <tr><td>3</td><td>Colorectum</td><td>1,926,425</td><td>18.4</td></tr>,\n",
       " <tr><td>4</td><td>Prostate</td><td>1,467,854</td><td>29.4</td></tr>,\n",
       " <tr><td>5</td><td>Stomach</td><td>968,784</td><td>9.2</td></tr>,\n",
       " <tr><td>6</td><td>Liver and intrahepatic bile ducts</td><td>866,136</td><td>8.6</td></tr>,\n",
       " <tr><td>7</td><td>Thyroid</td><td>821,214</td><td>9.1</td></tr>,\n",
       " <tr><td>8</td><td>Cervix uteri</td><td>662,301</td><td>14.1</td></tr>,\n",
       " <tr><td>9</td><td>Bladder</td><td>614,298</td><td>5.6</td></tr>,\n",
       " <tr><td>10</td><td>Non-Hodgkin lymphoma</td><td>553,389</td><td>5.6</td></tr>,\n",
       " <tr><td>11</td><td>Oesophagus</td><td>511,054</td><td>5.0</td></tr>,\n",
       " <tr><td>12</td><td>Pancreas</td><td>510,992</td><td>4.7</td></tr>,\n",
       " <tr><td>13</td><td>Leukaemia</td><td>487,294</td><td>5.3</td></tr>,\n",
       " <tr><td>14</td><td>Kidney</td><td>434,840</td><td>4.4</td></tr>,\n",
       " <tr><td>15</td><td>Corpus uteri</td><td>420,368</td><td>8.4</td></tr>,\n",
       " <tr><td>16</td><td>Lip, oral cavity</td><td>389,846</td><td>4.0</td></tr>,\n",
       " <tr><td>17</td><td>Melanoma of skin</td><td>331,722</td><td>3.2</td></tr>,\n",
       " <tr><td>18</td><td>Ovary</td><td>324,603</td><td>6.7</td></tr>,\n",
       " <tr><td>19</td><td>Brain, central nervous system</td><td>321,731</td><td>3.5</td></tr>,\n",
       " <tr><td>20</td><td>Larynx</td><td>189,191</td><td>1.9</td></tr>,\n",
       " <tr><td>21</td><td>Multiple myeloma</td><td>187,952</td><td>1.8</td></tr>,\n",
       " <tr><td>22</td><td>Gallbladder</td><td>122,491</td><td>1.2</td></tr>,\n",
       " <tr><td>23</td><td>Nasopharynx</td><td>120,434</td><td>1.3</td></tr>,\n",
       " <tr><td>24</td><td>Oropharynx</td><td>106,400</td><td>1.1</td></tr>,\n",
       " <tr><td>25</td><td>Hypopharynx</td><td>86,257</td><td>0.89</td></tr>,\n",
       " <tr><td>26</td><td>Hodgkin lymphoma</td><td>82,469</td><td>0.95</td></tr>,\n",
       " <tr><td>27</td><td>Testis</td><td>72,040</td><td>1.7</td></tr>,\n",
       " <tr><td>28</td><td>Salivary glands</td><td>55,083</td><td>0.56</td></tr>,\n",
       " <tr><td>29</td><td>Vulva</td><td>47,336</td><td>0.83</td></tr>,\n",
       " <tr><td>30</td><td>Penis</td><td>37,700</td><td>0.79</td></tr>,\n",
       " <tr><td>31</td><td>Kaposi sarcoma</td><td>35,813</td><td>0.41</td></tr>,\n",
       " <tr><td>32</td><td>Mesothelioma</td><td>30,633</td><td>0.28</td></tr>,\n",
       " <tr><td>33</td><td>Vagina</td><td>18,819</td><td>0.36</td></tr>]"
      ]
     },
     "execution_count": 16,
     "metadata": {},
     "output_type": "execute_result"
    }
   ],
   "source": [
    "column_data"
   ]
  },
  {
   "cell_type": "code",
   "execution_count": 17,
   "id": "150fae0c",
   "metadata": {},
   "outputs": [],
   "source": [
    "for row in column_data[3:]:\n",
    "    row_data = row.find_all('td')\n",
    "    individual_row_data = [data.text.strip() for data in row_data]\n",
    "    \n",
    "    length = len(df)\n",
    "    df.loc[length] = individual_row_data"
   ]
  },
  {
   "cell_type": "code",
   "execution_count": 18,
   "id": "13567f2e",
   "metadata": {},
   "outputs": [
    {
     "data": {
      "text/html": [
       "<div>\n",
       "<style scoped>\n",
       "    .dataframe tbody tr th:only-of-type {\n",
       "        vertical-align: middle;\n",
       "    }\n",
       "\n",
       "    .dataframe tbody tr th {\n",
       "        vertical-align: top;\n",
       "    }\n",
       "\n",
       "    .dataframe thead th {\n",
       "        text-align: right;\n",
       "    }\n",
       "</style>\n",
       "<table border=\"1\" class=\"dataframe\">\n",
       "  <thead>\n",
       "    <tr style=\"text-align: right;\">\n",
       "      <th></th>\n",
       "      <th>Rank</th>\n",
       "      <th>Cancer</th>\n",
       "      <th>New cases (2022)</th>\n",
       "      <th>ASR</th>\n",
       "    </tr>\n",
       "  </thead>\n",
       "  <tbody>\n",
       "    <tr>\n",
       "      <th>0</th>\n",
       "      <td>1</td>\n",
       "      <td>Trachea, bronchus and lung</td>\n",
       "      <td>2,480,675</td>\n",
       "      <td>23.6</td>\n",
       "    </tr>\n",
       "    <tr>\n",
       "      <th>1</th>\n",
       "      <td>2</td>\n",
       "      <td>Breast</td>\n",
       "      <td>2,296,840</td>\n",
       "      <td>46.8</td>\n",
       "    </tr>\n",
       "    <tr>\n",
       "      <th>2</th>\n",
       "      <td>3</td>\n",
       "      <td>Colorectum</td>\n",
       "      <td>1,926,425</td>\n",
       "      <td>18.4</td>\n",
       "    </tr>\n",
       "    <tr>\n",
       "      <th>3</th>\n",
       "      <td>4</td>\n",
       "      <td>Prostate</td>\n",
       "      <td>1,467,854</td>\n",
       "      <td>29.4</td>\n",
       "    </tr>\n",
       "    <tr>\n",
       "      <th>4</th>\n",
       "      <td>5</td>\n",
       "      <td>Stomach</td>\n",
       "      <td>968,784</td>\n",
       "      <td>9.2</td>\n",
       "    </tr>\n",
       "    <tr>\n",
       "      <th>5</th>\n",
       "      <td>6</td>\n",
       "      <td>Liver and intrahepatic bile ducts</td>\n",
       "      <td>866,136</td>\n",
       "      <td>8.6</td>\n",
       "    </tr>\n",
       "    <tr>\n",
       "      <th>6</th>\n",
       "      <td>7</td>\n",
       "      <td>Thyroid</td>\n",
       "      <td>821,214</td>\n",
       "      <td>9.1</td>\n",
       "    </tr>\n",
       "    <tr>\n",
       "      <th>7</th>\n",
       "      <td>8</td>\n",
       "      <td>Cervix uteri</td>\n",
       "      <td>662,301</td>\n",
       "      <td>14.1</td>\n",
       "    </tr>\n",
       "    <tr>\n",
       "      <th>8</th>\n",
       "      <td>9</td>\n",
       "      <td>Bladder</td>\n",
       "      <td>614,298</td>\n",
       "      <td>5.6</td>\n",
       "    </tr>\n",
       "    <tr>\n",
       "      <th>9</th>\n",
       "      <td>10</td>\n",
       "      <td>Non-Hodgkin lymphoma</td>\n",
       "      <td>553,389</td>\n",
       "      <td>5.6</td>\n",
       "    </tr>\n",
       "    <tr>\n",
       "      <th>10</th>\n",
       "      <td>11</td>\n",
       "      <td>Oesophagus</td>\n",
       "      <td>511,054</td>\n",
       "      <td>5.0</td>\n",
       "    </tr>\n",
       "    <tr>\n",
       "      <th>11</th>\n",
       "      <td>12</td>\n",
       "      <td>Pancreas</td>\n",
       "      <td>510,992</td>\n",
       "      <td>4.7</td>\n",
       "    </tr>\n",
       "    <tr>\n",
       "      <th>12</th>\n",
       "      <td>13</td>\n",
       "      <td>Leukaemia</td>\n",
       "      <td>487,294</td>\n",
       "      <td>5.3</td>\n",
       "    </tr>\n",
       "    <tr>\n",
       "      <th>13</th>\n",
       "      <td>14</td>\n",
       "      <td>Kidney</td>\n",
       "      <td>434,840</td>\n",
       "      <td>4.4</td>\n",
       "    </tr>\n",
       "    <tr>\n",
       "      <th>14</th>\n",
       "      <td>15</td>\n",
       "      <td>Corpus uteri</td>\n",
       "      <td>420,368</td>\n",
       "      <td>8.4</td>\n",
       "    </tr>\n",
       "    <tr>\n",
       "      <th>15</th>\n",
       "      <td>16</td>\n",
       "      <td>Lip, oral cavity</td>\n",
       "      <td>389,846</td>\n",
       "      <td>4.0</td>\n",
       "    </tr>\n",
       "    <tr>\n",
       "      <th>16</th>\n",
       "      <td>17</td>\n",
       "      <td>Melanoma of skin</td>\n",
       "      <td>331,722</td>\n",
       "      <td>3.2</td>\n",
       "    </tr>\n",
       "    <tr>\n",
       "      <th>17</th>\n",
       "      <td>18</td>\n",
       "      <td>Ovary</td>\n",
       "      <td>324,603</td>\n",
       "      <td>6.7</td>\n",
       "    </tr>\n",
       "    <tr>\n",
       "      <th>18</th>\n",
       "      <td>19</td>\n",
       "      <td>Brain, central nervous system</td>\n",
       "      <td>321,731</td>\n",
       "      <td>3.5</td>\n",
       "    </tr>\n",
       "    <tr>\n",
       "      <th>19</th>\n",
       "      <td>20</td>\n",
       "      <td>Larynx</td>\n",
       "      <td>189,191</td>\n",
       "      <td>1.9</td>\n",
       "    </tr>\n",
       "    <tr>\n",
       "      <th>20</th>\n",
       "      <td>21</td>\n",
       "      <td>Multiple myeloma</td>\n",
       "      <td>187,952</td>\n",
       "      <td>1.8</td>\n",
       "    </tr>\n",
       "    <tr>\n",
       "      <th>21</th>\n",
       "      <td>22</td>\n",
       "      <td>Gallbladder</td>\n",
       "      <td>122,491</td>\n",
       "      <td>1.2</td>\n",
       "    </tr>\n",
       "    <tr>\n",
       "      <th>22</th>\n",
       "      <td>23</td>\n",
       "      <td>Nasopharynx</td>\n",
       "      <td>120,434</td>\n",
       "      <td>1.3</td>\n",
       "    </tr>\n",
       "    <tr>\n",
       "      <th>23</th>\n",
       "      <td>24</td>\n",
       "      <td>Oropharynx</td>\n",
       "      <td>106,400</td>\n",
       "      <td>1.1</td>\n",
       "    </tr>\n",
       "    <tr>\n",
       "      <th>24</th>\n",
       "      <td>25</td>\n",
       "      <td>Hypopharynx</td>\n",
       "      <td>86,257</td>\n",
       "      <td>0.89</td>\n",
       "    </tr>\n",
       "    <tr>\n",
       "      <th>25</th>\n",
       "      <td>26</td>\n",
       "      <td>Hodgkin lymphoma</td>\n",
       "      <td>82,469</td>\n",
       "      <td>0.95</td>\n",
       "    </tr>\n",
       "    <tr>\n",
       "      <th>26</th>\n",
       "      <td>27</td>\n",
       "      <td>Testis</td>\n",
       "      <td>72,040</td>\n",
       "      <td>1.7</td>\n",
       "    </tr>\n",
       "    <tr>\n",
       "      <th>27</th>\n",
       "      <td>28</td>\n",
       "      <td>Salivary glands</td>\n",
       "      <td>55,083</td>\n",
       "      <td>0.56</td>\n",
       "    </tr>\n",
       "    <tr>\n",
       "      <th>28</th>\n",
       "      <td>29</td>\n",
       "      <td>Vulva</td>\n",
       "      <td>47,336</td>\n",
       "      <td>0.83</td>\n",
       "    </tr>\n",
       "    <tr>\n",
       "      <th>29</th>\n",
       "      <td>30</td>\n",
       "      <td>Penis</td>\n",
       "      <td>37,700</td>\n",
       "      <td>0.79</td>\n",
       "    </tr>\n",
       "    <tr>\n",
       "      <th>30</th>\n",
       "      <td>31</td>\n",
       "      <td>Kaposi sarcoma</td>\n",
       "      <td>35,813</td>\n",
       "      <td>0.41</td>\n",
       "    </tr>\n",
       "    <tr>\n",
       "      <th>31</th>\n",
       "      <td>32</td>\n",
       "      <td>Mesothelioma</td>\n",
       "      <td>30,633</td>\n",
       "      <td>0.28</td>\n",
       "    </tr>\n",
       "    <tr>\n",
       "      <th>32</th>\n",
       "      <td>33</td>\n",
       "      <td>Vagina</td>\n",
       "      <td>18,819</td>\n",
       "      <td>0.36</td>\n",
       "    </tr>\n",
       "  </tbody>\n",
       "</table>\n",
       "</div>"
      ],
      "text/plain": [
       "   Rank                             Cancer New cases (2022)   ASR\n",
       "0     1         Trachea, bronchus and lung        2,480,675  23.6\n",
       "1     2                             Breast        2,296,840  46.8\n",
       "2     3                         Colorectum        1,926,425  18.4\n",
       "3     4                           Prostate        1,467,854  29.4\n",
       "4     5                            Stomach          968,784   9.2\n",
       "5     6  Liver and intrahepatic bile ducts          866,136   8.6\n",
       "6     7                            Thyroid          821,214   9.1\n",
       "7     8                       Cervix uteri          662,301  14.1\n",
       "8     9                            Bladder          614,298   5.6\n",
       "9    10               Non-Hodgkin lymphoma          553,389   5.6\n",
       "10   11                         Oesophagus          511,054   5.0\n",
       "11   12                           Pancreas          510,992   4.7\n",
       "12   13                          Leukaemia          487,294   5.3\n",
       "13   14                             Kidney          434,840   4.4\n",
       "14   15                       Corpus uteri          420,368   8.4\n",
       "15   16                   Lip, oral cavity          389,846   4.0\n",
       "16   17                   Melanoma of skin          331,722   3.2\n",
       "17   18                              Ovary          324,603   6.7\n",
       "18   19      Brain, central nervous system          321,731   3.5\n",
       "19   20                             Larynx          189,191   1.9\n",
       "20   21                   Multiple myeloma          187,952   1.8\n",
       "21   22                        Gallbladder          122,491   1.2\n",
       "22   23                        Nasopharynx          120,434   1.3\n",
       "23   24                         Oropharynx          106,400   1.1\n",
       "24   25                        Hypopharynx           86,257  0.89\n",
       "25   26                   Hodgkin lymphoma           82,469  0.95\n",
       "26   27                             Testis           72,040   1.7\n",
       "27   28                    Salivary glands           55,083  0.56\n",
       "28   29                              Vulva           47,336  0.83\n",
       "29   30                              Penis           37,700  0.79\n",
       "30   31                     Kaposi sarcoma           35,813  0.41\n",
       "31   32                       Mesothelioma           30,633  0.28\n",
       "32   33                             Vagina           18,819  0.36"
      ]
     },
     "execution_count": 18,
     "metadata": {},
     "output_type": "execute_result"
    }
   ],
   "source": [
    "df"
   ]
  },
  {
   "cell_type": "code",
   "execution_count": 19,
   "id": "16a23da9",
   "metadata": {},
   "outputs": [],
   "source": [
    "df.to_csv(r'Companies.csv', index = False)"
   ]
  },
  {
   "cell_type": "code",
   "execution_count": null,
   "id": "482ad616",
   "metadata": {},
   "outputs": [],
   "source": []
  }
 ],
 "metadata": {
  "kernelspec": {
   "display_name": "Python 3 (ipykernel)",
   "language": "python",
   "name": "python3"
  },
  "language_info": {
   "codemirror_mode": {
    "name": "ipython",
    "version": 3
   },
   "file_extension": ".py",
   "mimetype": "text/x-python",
   "name": "python",
   "nbconvert_exporter": "python",
   "pygments_lexer": "ipython3",
   "version": "3.11.7"
  }
 },
 "nbformat": 4,
 "nbformat_minor": 5
}
